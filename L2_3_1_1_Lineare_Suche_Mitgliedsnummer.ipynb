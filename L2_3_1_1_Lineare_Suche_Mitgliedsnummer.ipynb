{
  "nbformat": 4,
  "nbformat_minor": 0,
  "metadata": {
    "kernelspec": {
      "display_name": "Python 3",
      "language": "python",
      "name": "python3"
    },
    "language_info": {
      "codemirror_mode": {
        "name": "ipython",
        "version": 3
      },
      "file_extension": ".py",
      "mimetype": "text/x-python",
      "name": "python",
      "nbconvert_exporter": "python",
      "pygments_lexer": "ipython3",
      "version": "3.7.6"
    },
    "colab": {
      "name": "L2 3.1.1 Lineare Suche Mitgliedsnummer.ipynb",
      "provenance": [],
      "include_colab_link": true
    }
  },
  "cells": [
    {
      "cell_type": "markdown",
      "metadata": {
        "id": "view-in-github",
        "colab_type": "text"
      },
      "source": [
        "<a href=\"https://colab.research.google.com/github/manne05/Konzepte/blob/master/L2_3_1_1_Lineare_Suche_Mitgliedsnummer.ipynb\" target=\"_parent\"><img src=\"https://colab.research.google.com/assets/colab-badge.svg\" alt=\"Open In Colab\"/></a>"
      ]
    },
    {
      "cell_type": "markdown",
      "metadata": {
        "id": "OFZfaGnrYXJf"
      },
      "source": [
        "# Linearer Suchalgorithmus\n",
        "## Funktionsweise\n",
        "Ein Array oder eine andere Datenstruktur oder auch eine Datenbank wird sequentiell \n",
        "von Beginn bis zum Ende durchlaufen. Jeder Eintrag wird geprüft, ob er dem gesuchten Wert entspricht. \n",
        "Falls der gesuchte Wert nur einmal vorhanden sein kann, kann die Suche bei einer erfolgreichen Übereinstimmung\n",
        "abgebrochen werden.\n",
        "\n",
        "## Aufgabenstellung\n",
        "Implementiere ein Programm, das überprüft, ob ein Besucher der Mitgliederversammlung zugangsberechtigt ist. \n",
        "Dafür soll am Eingang die Mitgliedsnummer in das Programm eingegeben werden. \n",
        "Nach Eingabe der Mitgliedsnummer wird geprüft, ob die eingegebene Nummer existiert. \n",
        "Alle vergebenen Mitgliedsnummern des Vereins sind im Array mnr erfasst. \n",
        "\n",
        "mnr =  [1001, 1019, 1014, 1009, 1005, 1002, 1018, 1008, 1003, 1010, 1007, 1004, 1020, 1013, 1015, 1011, 1017, 1012, 1006, 1016]\n",
        "\n",
        "Wird die eingegebene Mitgliedsnummer gefunden, soll die Meldung „Zutritt gewährt“ ausgegeben werden. \n",
        "Wird die Nummer nicht gefunden, soll die Meldung „Zutritt verweigert“ erscheinen.\n",
        "\n",
        "## Lösung der Aufgabe\n",
        "### Deklaration und Initialisierung des Arrays mnr"
      ]
    },
    {
      "cell_type": "code",
      "metadata": {
        "id": "pX_L1yFMYXJi"
      },
      "source": [
        "mnr =  [1001, 1019, 1014, 1009, 1005, 1002, 1018, 1008, 1003, 1010, 1007, 1004, 1020, 1013, 1015, 1011, 1017, 1012, 1006, 1016]"
      ],
      "execution_count": null,
      "outputs": []
    },
    {
      "cell_type": "markdown",
      "metadata": {
        "id": "2A0D-ZzkYXJj"
      },
      "source": [
        "### Länge des Arrays ermitteln\n",
        "Die Anzahl Elemente des Arrays wird in der Variablen laenge gespeichert."
      ]
    },
    {
      "cell_type": "code",
      "metadata": {
        "id": "RSFQ6iVoYXJj"
      },
      "source": [
        "laenge = len(mnr)"
      ],
      "execution_count": null,
      "outputs": []
    },
    {
      "cell_type": "markdown",
      "metadata": {
        "id": "iWui_vBQYXJj"
      },
      "source": [
        "### Mitgliedsnummer eingeben\n",
        "Die Mitgliedsnummer des Besuchers wird über die Tastatur erfasst und in der Variablen meine_nr abgelegt."
      ]
    },
    {
      "cell_type": "code",
      "metadata": {
        "id": "Sq6FvP0mYXJk",
        "outputId": "70cd197f-aa09-4510-a301-90791b2de0d0"
      },
      "source": [
        "meine_nr = int(input(\"Bitte Mitgliedsnummer eingeben: \"))"
      ],
      "execution_count": null,
      "outputs": [
        {
          "output_type": "stream",
          "text": [
            "Bitte Mitgliedsnummer eingeben: 10\n"
          ],
          "name": "stdout"
        }
      ]
    },
    {
      "cell_type": "markdown",
      "metadata": {
        "id": "IncCP87DYXJk"
      },
      "source": [
        "### Mitgliedsnummer im Array mnr suchen\n",
        "In einer for-Schleife wird das Array mnr durchlaufen und jedes Element wird mit der erfassten Mitgliedsnummer\n",
        "meine_nr verglichen. Wenn die Werte übereinstimmen wird eine Variable gefunden auf wahr (True) gesetzt."
      ]
    },
    {
      "cell_type": "code",
      "metadata": {
        "id": "lYnS-D-QYXJl"
      },
      "source": [
        "gefunden = False               # boolsche Variable gefunden deklarieren und mit falsch (False) initialisieren\n",
        "for i in range(laenge):\n",
        "    if mnr[i] == meine_nr:     # Werte stimmen überein\n",
        "        gefunden = True "
      ],
      "execution_count": null,
      "outputs": []
    },
    {
      "cell_type": "markdown",
      "metadata": {
        "id": "IUgcC-soYXJl"
      },
      "source": [
        "### Auswertung der Prüfung\n",
        "Auswertung der boolschen Variablen gefunden und Ausgabe einer entsprechenden Meldung."
      ]
    },
    {
      "cell_type": "code",
      "metadata": {
        "id": "JFI0yudnYXJm",
        "outputId": "afd1bb63-bedf-410f-c8b5-b94952b2cae0"
      },
      "source": [
        "if gefunden:\n",
        "    print(\"Gültige Mitgliedsnummer. Zutritt gewährt.\")\n",
        "else:\n",
        "    print(\"Kein Zutritt!\")"
      ],
      "execution_count": null,
      "outputs": [
        {
          "output_type": "stream",
          "text": [
            "Kein Zutritt!\n"
          ],
          "name": "stdout"
        }
      ]
    },
    {
      "cell_type": "code",
      "metadata": {
        "id": "C-KqiUG4YXJm"
      },
      "source": [
        "## Erweiterung der Aufgabe\n",
        "### Eingabe und Auswertung mehrerer Mitgliedsnummern\n",
        "Damit das Programm nicht bei jedem Besucher neu gestartet werden muss, wird das Programm um eine weitere\n",
        "Schleife erweitert.\n",
        "\n",
        "Das Programm wird einmal gestartet und läuft solange in einer while Schleife, bis eine Mitgliedsnummer \n",
        "eingegeben wird die gleich oder kleiner 0 ist.\n",
        "Ansonsten bleibt das Programm gleich."
      ],
      "execution_count": null,
      "outputs": []
    },
    {
      "cell_type": "code",
      "metadata": {
        "id": "yXtzv8O1YXJm",
        "outputId": "75c52470-3333-4024-8d91-aa6546c49386"
      },
      "source": [
        "# Array mnr deklarieren und initialisieren\n",
        "mnr =  [1001, 1019, 1014, 1009, 1005, 1002, 1018, 1008, 1003, 1010, 1007, 1004, 1020, 1013, 1015, 1011, 1017, 1012, 1006, 1016]\n",
        "\n",
        "# Länge des Arrays ermitteln\n",
        "laenge = len(mnr)\n",
        "\n",
        "# Variable meine_nr deklarieren und mit 1 initialisieren\n",
        "print(\"----------- Zutrittskontrolle -------------\")\n",
        "meine_nr = int(input(\"Bitte Mitgliedsnummer eingeben: \"))\n",
        "\n",
        "# while Schleife der Eintrittskontrolle\n",
        "while meine_nr > 0:\n",
        "    gefunden = False               # boolsche Variable gefunden deklarieren und mit falsch (False) initialisieren\n",
        "    for i in range(laenge):\n",
        "        if mnr[i] == meine_nr:     # Werte stimmen überein\n",
        "            gefunden = True\n",
        "    # Auswertung der Mitgliedsnummer        \n",
        "    if gefunden:\n",
        "        print(\"Gültige Mitgliedsnummer. Zutritt gewährt.\")\n",
        "    else:\n",
        "        print(\"Kein Zutritt! -- Mitgliedsnummer ist ingültig!\")\n",
        "        \n",
        "    print(\"----------- Zutrittskontrolle -------------\")\n",
        "    meine_nr = int(input(\"Bitte Mitgliedsnummer eingeben: \"))\n",
        "    \n",
        "print(\"------------ Programmende ---------------\")"
      ],
      "execution_count": null,
      "outputs": [
        {
          "output_type": "stream",
          "text": [
            "----------- Zutrittskontrolle -------------\n",
            "Bitte Mitgliedsnummer eingeben: 10\n",
            "Kein Zutritt! -- Mitgliedsnummer ist ingültig!\n",
            "----------- Zutrittskontrolle -------------\n",
            "Bitte Mitgliedsnummer eingeben: 1001\n",
            "Gültige Mitgliedsnummer. Zutritt gewährt.\n",
            "----------- Zutrittskontrolle -------------\n",
            "Bitte Mitgliedsnummer eingeben: 0\n",
            "------------ Programmende ---------------\n"
          ],
          "name": "stdout"
        }
      ]
    },
    {
      "cell_type": "code",
      "metadata": {
        "id": "Sd8ruI7cYXJn"
      },
      "source": [
        ""
      ],
      "execution_count": null,
      "outputs": []
    }
  ]
}