{
  "nbformat": 4,
  "nbformat_minor": 0,
  "metadata": {
    "kernelspec": {
      "display_name": "Python 3",
      "language": "python",
      "name": "python3"
    },
    "language_info": {
      "codemirror_mode": {
        "name": "ipython",
        "version": 3
      },
      "file_extension": ".py",
      "mimetype": "text/x-python",
      "name": "python",
      "nbconvert_exporter": "python",
      "pygments_lexer": "ipython3",
      "version": "3.7.6"
    },
    "colab": {
      "name": "Dictionaries.ipynb",
      "provenance": [],
      "include_colab_link": true
    }
  },
  "cells": [
    {
      "cell_type": "markdown",
      "metadata": {
        "id": "view-in-github",
        "colab_type": "text"
      },
      "source": [
        "<a href=\"https://colab.research.google.com/github/manne05/Konzepte/blob/master/Dictionaries.ipynb\" target=\"_parent\"><img src=\"https://colab.research.google.com/assets/colab-badge.svg\" alt=\"Open In Colab\"/></a>"
      ]
    },
    {
      "cell_type": "markdown",
      "metadata": {
        "id": "ykQucSzNa-zK"
      },
      "source": [
        "# Python Dictionary\n",
        "### Was ist ein Dictionary?\n",
        "Dictionaries zählen zu den Datenstrukturen wie Listen, Array, Tupel, Mengen etc.\n",
        "\n",
        "Das Python-Wörterbuch wird auch als \"Mapping\" bezeichnet, weil wir es verwenden, um Schlüssel-Werte-Paare (wie Telefonnummern und Kontakte aus dem ersten Beispiel) abzubilden. Mit anderen Worten, an jeder Stelle in einem Wörterbuch haben wir einen Wert, der einem Schlüssel zugeordnet ist."
      ]
    },
    {
      "cell_type": "code",
      "metadata": {
        "id": "KmynMSTsa-zO",
        "outputId": "a369bba0-cc03-4e00-b873-f09e69631346",
        "colab": {
          "base_uri": "https://localhost:8080/"
        }
      },
      "source": [
        "# this dictionary only has one entry\n",
        "example_dictionary = {\"key\": \"value\"}\n",
        "# this dictionary has multiple entries\n",
        "another_dictionary = {\n",
        "    \"first_key\": \"cool_value\",\n",
        "    \"second_key\": \"awesome_value\",\n",
        "    \"lots_of_keys\": \"cool_value\"\n",
        "}\n",
        "print(example_dictionary)\n",
        "print(another_dictionary)"
      ],
      "execution_count": null,
      "outputs": [
        {
          "output_type": "stream",
          "text": [
            "{'key': 'value'}\n",
            "{'first_key': 'cool_value', 'second_key': 'awesome_value', 'lots_of_keys': 'cool_value'}\n"
          ],
          "name": "stdout"
        }
      ]
    },
    {
      "cell_type": "markdown",
      "metadata": {
        "id": "JwzMFSO9a-zd"
      },
      "source": [
        "Schlüssel sind die Art und Weise, wie wir in einem Wörterbuch nachschlagen. Sie müssen eindeutig sein, damit wir den richtigen Wert finden, wenn wir sie zum Nachschlagen verwenden. Werte können wie im obigen Beispiel dupliziert werden, da wir sie nicht zum Nachschlagen verwenden.\n",
        "Verwenden wir ein Szenario, das uns hilft zu verstehen, warum das Nachschlagen mit Wörterbüchern so schnell geht.\n",
        "\n",
        "Stellen Sie sich vor, Sie arbeiten in einem großen Bürogebäude. Sie kennen die Namen der Personen, die dort arbeiten, und erkennen im Allgemeinen jede Person, wenn Sie sie sehen, aber Sie wissen nicht, wer in welchem Büro arbeitet.\n",
        "\n",
        "Wenn Sie Josefina suchen, könnten Sie im unteren Stockwerk anfangen und an jede Tür klopfen, bis Sie sie finden. Im Sinne der Big-O-Notation wäre dies eine O(n)-Operation, wobei \"n\" die Anzahl der Türen im Gebäude ist.\n",
        "\n",
        "Vielleicht haben Sie Glück und sie befindet sich im allerersten Büro. Im besten Fall wäre dies ein Szenario mit einer Big O-Notation von O(1). Vielleicht ist es der schlimmste Fall einer O(n)-Situation und sie ist ganz am Ende des 10 Stockwerkes.\n",
        "Auch wenn Sie den Schlüssel (ihren Namen) haben und Sie den Wert kennen, den Sie wollen (Josefina, die Person), brauchen Sie noch etwas anderes, um diesen Prozess zu beschleunigen.\n",
        "Es wäre toll, ihre Büronummer zu haben!\n",
        "Dann könnten Sie einfach den Aufzug in die richtige Etage nehmen und bis zu ihrer Tür gehen. Die erste Tür, die Sie versuchen würden, wäre die richtige, und das würde dies wieder zu einem O(1)-Szenario machen.\n",
        "Die Büronummer, die dies beschleunigt, ist unser Hash-Wert. Wir werden etwas später mehr darüber sprechen.\n",
        "\n",
        "## Wie funktionieren Python Dictionaries?\n",
        "Dictionary-Schlüssel müssen ein Objekt sein, dem ein Hash-Wert zugeordnet werden kann. Diese Objekte sind unveränderlich, wie Tupel oder Zeichenketten. Sie können nachträglich nicht geändert werden.\n",
        "\n",
        "Veränderbare Objekte wie Listen, Sets und Wörterbücher können nicht als Schlüssel zugewiesen werden, da sie später geändert werden können, ohne dass eine Kopie von ihnen erstellt wird.\n",
        "Wenn Sie eine Liste als Schlüssel festlegen könnten, gäbe es keine Möglichkeit, ihre Eindeutigkeit zu garantieren. \n",
        "Sie könnten den Schlüssel als eine eindeutige Liste erstellen, die nicht wie jede andere Liste ist..."
      ]
    },
    {
      "cell_type": "code",
      "metadata": {
        "id": "yqKsvKiHa-zj",
        "outputId": "de738994-3827-4716-911e-b8858b413b5d",
        "colab": {
          "base_uri": "https://localhost:8080/",
          "height": 232
        }
      },
      "source": [
        "list1 = [1, 2, 3]\n",
        "list2 = [2, 3, 4] # different \n",
        "# luckily the keys are unique here\n",
        "dictionary = {\n",
        "    # list1 = [1, 2, 3]\n",
        "    list1: \"a_value\", \n",
        "    \n",
        "    # list 2 = [2, 3, 4]\n",
        "    list2: \"another_value\" \n",
        "}\n",
        "print(dictionary)"
      ],
      "execution_count": null,
      "outputs": [
        {
          "output_type": "error",
          "ename": "TypeError",
          "evalue": "ignored",
          "traceback": [
            "\u001b[0;31m---------------------------------------------------------------------------\u001b[0m",
            "\u001b[0;31mTypeError\u001b[0m                                 Traceback (most recent call last)",
            "\u001b[0;32m<ipython-input-3-ba40741cf2da>\u001b[0m in \u001b[0;36m<module>\u001b[0;34m()\u001b[0m\n\u001b[1;32m      7\u001b[0m \u001b[0;34m\u001b[0m\u001b[0m\n\u001b[1;32m      8\u001b[0m     \u001b[0;31m# list 2 = [2, 3, 4]\u001b[0m\u001b[0;34m\u001b[0m\u001b[0;34m\u001b[0m\u001b[0;34m\u001b[0m\u001b[0m\n\u001b[0;32m----> 9\u001b[0;31m     \u001b[0mlist2\u001b[0m\u001b[0;34m:\u001b[0m \u001b[0;34m\"another_value\"\u001b[0m\u001b[0;34m\u001b[0m\u001b[0;34m\u001b[0m\u001b[0m\n\u001b[0m\u001b[1;32m     10\u001b[0m }\n\u001b[1;32m     11\u001b[0m \u001b[0mprint\u001b[0m\u001b[0;34m(\u001b[0m\u001b[0mdictionary\u001b[0m\u001b[0;34m)\u001b[0m\u001b[0;34m\u001b[0m\u001b[0;34m\u001b[0m\u001b[0m\n",
            "\u001b[0;31mTypeError\u001b[0m: unhashable type: 'list'"
          ]
        }
      ]
    },
    {
      "cell_type": "markdown",
      "metadata": {
        "id": "ZHwLQaCDa-zw"
      },
      "source": [
        "Das funktioniert so nicht! \n",
        "Eine Liste kann verändert werden und ist deshalb nicht als Datentyp für einen Hashwert geeignet. Ein Hashwert muss immer gleich erzeugt werden können. Dies ist nur bei nicht veränderbaren Datentypen der Fall.\n",
        "Wir benötigen eindeutige und nicht änderbare Schlüssel.\n",
        "\n",
        "Unveränderliche Objekte wie ganze Zahlen, Fließkommazahlen, Zeichenketten, Tupel und sogar eingefrorene Mengen können nicht geändert werden, ohne das gesamte Objekt zu kopieren und eine neue Objekt-ID zu erstellen.\n",
        "Dadurch wird Konsistenz geschaffen, da Sie wissen, dass Sie jedes Mal das gleiche Ergebnis erhalten, wenn Sie dieses Objekt als Nachschlagewerk verwenden. Aus diesem Grund können diese Objekte verwendet werden, um einen konsistenten Hash-Wert zu erstellen und das Schlüssel-Wert-Paar zu lokalisieren.\n",
        "\n",
        "Nun wurde bereits erwähnt, dass die Schlüssel \"gehasht\"(\"zerhackt\") sind. Python-Dictionaries sind hinter den Kulissen als Hash-Tabelle implementiert. Das Dictionary verwendet die Hash-Funktion jedes Schlüssels, um einige der Informationen des Schlüssels in eine ganze Zahl zu ändern, die als Hash-Wert bezeichnet wird.\n",
        "Der Hash-Wert sagt Ihnen, in welchen Bereich das Schlüssel-Wert-Paar gelegt werden soll. Auf diese Weise wissen Sie jedes Mal, wenn Sie dieses Schlüssel-Wert-Paar nachschlagen oder finden müssen, genau, in welchem Bereich Sie suchen müssen. Auf diese Weise sparen Sie mit Schlüsseln Zeit, wenn Sie versuchen, einen Wert nachzuschlagen."
      ]
    },
    {
      "cell_type": "markdown",
      "metadata": {
        "id": "GTmihPzya-zy"
      },
      "source": [
        "## Wann wird ein Dictionary verwendet?\n",
        "Dictionaries sind nützlich, um schnell nachzuschlagen und eindeutige Schlüssel mit ihren jeweiligen Werten zu speichern.\n",
        "Wann könnten Sie also auf ein Dictionary in einer echten Codebasis stoßen? Wenn Sie einen Datenspeicher oder eine Datenbank in Vanilla Python erstellen, dann könnte ein Dictionary wirklich nützlich sein."
      ]
    },
    {
      "cell_type": "code",
      "metadata": {
        "id": "-FiOHgw7a-z1",
        "outputId": "ebbe8b8d-072b-4056-deb9-032bf4ce2428"
      },
      "source": [
        "all_students_stuff = {\n",
        "    \"bob\": [\"backpack\", \"sneakers\", \"hat\"],\n",
        "    \"elena\": [\"gloves\", \"hair brush\", \"cleats\"],\n",
        "    \"piper\": [\"backpack\", \"sneakers\", \"hat\"]\n",
        "}\n",
        "print(all_students_stuff)"
      ],
      "execution_count": null,
      "outputs": [
        {
          "output_type": "stream",
          "text": [
            "{'bob': ['backpack', 'sneakers', 'hat'], 'elena': ['gloves', 'hair brush', 'cleats'], 'piper': ['backpack', 'sneakers', 'hat']}\n"
          ],
          "name": "stdout"
        }
      ]
    },
    {
      "cell_type": "markdown",
      "metadata": {
        "id": "hf9o7ksra-z9"
      },
      "source": [
        "Im obigen Beispiel erstellen wir einen Datenspeicher aller Schüler im Klassenzimmer und ihrer Habseligkeiten. Beachten Sie, dass die Werte hier Listen sind.\n",
        "Wenn wir unser Dictionary auf die gesamte Schule ausweiten würden, könnten wir immer noch sehr schnell nachschlagen.\n",
        "Wir könnten auch Dictionaries als Werte verwenden, wenn die Schüler mehr Kategorien für ihre Habseligkeiten benötigen."
      ]
    },
    {
      "cell_type": "code",
      "metadata": {
        "id": "yvV7bt6Pa-0A"
      },
      "source": [
        "all_students_stuff = {\n",
        "    \"bob\": {\n",
        "        \"clothing\": [\"sneakers\", \"hat\"],\n",
        "        \"storage\": [\"backpack\"],\n",
        "        \"food\": [\"apple sauce\", \"sandwich\"]\n",
        "    },\n",
        "    \"marie\": {\n",
        "        \"clothing\": [\"gloves\", \"cleats\"],\n",
        "        \"hair stuff\": [\"hair brush\"]\n",
        "    },\n",
        "    \"piper\": {\n",
        "        \"clothing\": [\"sneakers\", \"hat\"],\n",
        "        \"storage\": [\"backpack\"],\n",
        "        \"toiletries\": [\"lotion\", \"sunscreen\"]\n",
        "    } \n",
        "}\n"
      ],
      "execution_count": 5,
      "outputs": []
    },
    {
      "cell_type": "code",
      "metadata": {
        "id": "CbmMYJlAa-0N",
        "outputId": "1f027560-bd70-4400-c401-1408109cfb77",
        "colab": {
          "base_uri": "https://localhost:8080/"
        }
      },
      "source": [
        "# Ist der Schlüssel \"marie\" im Dictionary all_students_stuff enthalten?\n",
        "print('marie' in all_students_stuff)\n",
        "\n",
        "# Welche Kleider hat marie?\n",
        "print(all_students_stuff[\"marie\"][\"clothing\"])"
      ],
      "execution_count": 6,
      "outputs": [
        {
          "output_type": "stream",
          "text": [
            "True\n",
            "['gloves', 'cleats']\n"
          ],
          "name": "stdout"
        }
      ]
    },
    {
      "cell_type": "code",
      "metadata": {
        "id": "qmVbGtqna-0R",
        "outputId": "28403240-7808-41b6-f90d-beaa411e5a4f",
        "colab": {
          "base_uri": "https://localhost:8080/"
        }
      },
      "source": [
        "# Ist der Schlüssel Bob im Dictionary all_students_stuff enthalten? Wenn ja gebe Inhalt des Dictionaries aus.\n",
        "if 'bob' in all_students_stuff:\n",
        "  print(all_students_stuff[\"bob\"])\n",
        "else:\n",
        "  print(\"bob is not available!\")"
      ],
      "execution_count": 7,
      "outputs": [
        {
          "output_type": "stream",
          "text": [
            "{'clothing': ['sneakers', 'hat'], 'storage': ['backpack'], 'food': ['apple sauce', 'sandwich']}\n"
          ],
          "name": "stdout"
        }
      ]
    }
  ]
}