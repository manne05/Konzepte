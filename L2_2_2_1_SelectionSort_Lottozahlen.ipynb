{
  "nbformat": 4,
  "nbformat_minor": 0,
  "metadata": {
    "kernelspec": {
      "display_name": "Python 3",
      "language": "python",
      "name": "python3"
    },
    "language_info": {
      "codemirror_mode": {
        "name": "ipython",
        "version": 3
      },
      "file_extension": ".py",
      "mimetype": "text/x-python",
      "name": "python",
      "nbconvert_exporter": "python",
      "pygments_lexer": "ipython3",
      "version": "3.7.6"
    },
    "colab": {
      "name": "L2_2.2.1_SelectionSort_Lottozahlen.ipynb",
      "provenance": [],
      "include_colab_link": true
    }
  },
  "cells": [
    {
      "cell_type": "markdown",
      "metadata": {
        "id": "view-in-github",
        "colab_type": "text"
      },
      "source": [
        "<a href=\"https://colab.research.google.com/github/manne05/Konzepte/blob/master/L2_2_2_1_SelectionSort_Lottozahlen.ipynb\" target=\"_parent\"><img src=\"https://colab.research.google.com/assets/colab-badge.svg\" alt=\"Open In Colab\"/></a>"
      ]
    },
    {
      "cell_type": "markdown",
      "metadata": {
        "id": "wu4BjLtJ3aws"
      },
      "source": [
        "# L2 2.2.1 Selection Sort Lottozahlen\n",
        "## gezogene Lottozahlen sortiern\n",
        "Analog der Aufgabe Lottozahlen mit Bubble Sort sortieren, wollen wir jetzt auf die gleiche Aufgabenstellung den Algorithmus Selection Sort anwenden\n",
        "\n",
        "## Erklärung im Programmcode"
      ]
    },
    {
      "cell_type": "code",
      "metadata": {
        "id": "D3nz-G-v3aw3"
      },
      "source": [
        "# Array lotto deklarieren und initialisieren\n",
        "lotto= [48, 5, 17, 32, 7, 29]\n",
        "\n",
        "# Länge des Arrays in der Variablen laenge festhalten\n",
        "laenge = len(lotto)"
      ],
      "execution_count": null,
      "outputs": []
    },
    {
      "cell_type": "markdown",
      "metadata": {
        "id": "RekY9TsH3aw5"
      },
      "source": [
        "### Äußere Schleife wird einmal durchlaufen\n",
        "- kleinster Index min_idx wird auf die aktuelle Position akt_idx gesetzt\n",
        "### Innere Schleife mit Tauschvorgang\n",
        "- in der inneren Schleife mit j ab der Stelle akt_idx + 1 nach der kleinsten Zahl suchen\n",
        "- neuen kleinsten Index min_idx auf j setzen, wenn Zahl kleiner ist\n",
        "- nach der innereren Schleife j werden die Positionen getauscht, wenn min_idx ungleich akt_idx ist\n",
        "- die gefundenen kleinste Zahl steht an der richtigen Stelle\n",
        "### Tauschvorgang ohne Zwischenspeichervariable\n",
        "- getauscht wird ohne Zwischenspeicher in einer Zeile\n",
        "- die auskommentierten Zeilen enthalten den Tauschvorgang mit Zwischenspeicher\n",
        "- zum Testen Kommentarzeichen # entfernen und die letzte Zeile auskommentieren\n",
        "### wie funktioniert das?\n",
        "- lotto[akt_idx], lotto[min_idx] = lotto[min_idx], lotto[akt_idx]\n",
        "- Position 1 rechts des Zuweisungszeichens = wird auf Postition 1 links des Zuweisungszeichens zugewiesen\n",
        "- Position 2 rechts des Zuweisungszeichens = wird auf Postition 2 links des Zuweisungszeichens zugewiesen \n",
        "- wenn wir das in zwei Zeilen durchführen würden, also so:\n",
        "- lotto[akt_idx] = lotto[min_idx]\n",
        "- lotto[min_idx] = lotto[akt_idx]  gibt es folgendes Ergebnis:\n",
        "- [5, 5, 7, 7, 7, 29]"
      ]
    },
    {
      "cell_type": "code",
      "metadata": {
        "id": "rKORpVMz3aw6"
      },
      "source": [
        "for akt_idx in range(laenge):\n",
        "    min_idx = akt_idx\n",
        "    for j in range(akt_idx + 1, laenge):\n",
        "        #Suche nach der niedrigsten Zahl\n",
        "        if lotto[j] < lotto[min_idx]:\n",
        "            min_idx = j\n",
        "    #Tausch\n",
        "    if akt_idx != min_idx:\n",
        "        # zwischenspeicher = lotto[akt_idx]\n",
        "        # lotto[akt_idx] = lotto [min_idx]\n",
        "        # lotto[min_idx] = zwischenspeicher\n",
        "        lotto[akt_idx], lotto[min_idx] = lotto[min_idx], lotto[akt_idx]"
      ],
      "execution_count": null,
      "outputs": []
    },
    {
      "cell_type": "markdown",
      "metadata": {
        "id": "zBERk4MM3aw6"
      },
      "source": [
        "## sortiertes Array ausgeben"
      ]
    },
    {
      "cell_type": "code",
      "metadata": {
        "id": "w7j0QEGE3aw6",
        "outputId": "eb59f10a-cfac-4126-cf09-c6169f81571c"
      },
      "source": [
        "print(lotto)"
      ],
      "execution_count": null,
      "outputs": [
        {
          "output_type": "stream",
          "text": [
            "[5, 7, 17, 29, 32, 48]\n"
          ],
          "name": "stdout"
        }
      ]
    }
  ]
}