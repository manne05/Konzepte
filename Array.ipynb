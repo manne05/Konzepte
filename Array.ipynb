{
  "nbformat": 4,
  "nbformat_minor": 0,
  "metadata": {
    "kernelspec": {
      "display_name": "Python 3",
      "language": "python",
      "name": "python3"
    },
    "language_info": {
      "codemirror_mode": {
        "name": "ipython",
        "version": 3
      },
      "file_extension": ".py",
      "mimetype": "text/x-python",
      "name": "python",
      "nbconvert_exporter": "python",
      "pygments_lexer": "ipython3",
      "version": "3.7.6"
    },
    "colab": {
      "name": "Array.ipynb",
      "provenance": [],
      "include_colab_link": true
    }
  },
  "cells": [
    {
      "cell_type": "markdown",
      "metadata": {
        "id": "view-in-github",
        "colab_type": "text"
      },
      "source": [
        "<a href=\"https://colab.research.google.com/github/manne05/Konzepte/blob/master/Array.ipynb\" target=\"_parent\"><img src=\"https://colab.research.google.com/assets/colab-badge.svg\" alt=\"Open In Colab\"/></a>"
      ]
    },
    {
      "cell_type": "markdown",
      "metadata": {
        "id": "5X6y7xtvqxCL"
      },
      "source": [
        "# Datenstruktur Array in Python\n",
        "### Deklaration und Initialisierung"
      ]
    },
    {
      "cell_type": "code",
      "metadata": {
        "id": "SSIg1bVVqxCN",
        "outputId": "2666ce29-0528-4b58-dd18-4ca09a5a0cf6"
      },
      "source": [
        "# Deklaration und Initialisierung\n",
        "\n",
        "namensliste = [\"Uli\", \"Anna\", \"Emil\", \"Sophia\"] # Möglichkeit 1\n",
        "\n",
        "# Möglichkeit 2\n",
        "himmelsrichtungen = [] # Deklaration\n",
        "himmelsrichtungen.append(\"Nord\") # Initialisierung\n",
        "himmelsrichtungen.append(\"Ost\")\n",
        "himmelsrichtungen.append(\"Süd\")\n",
        "himmelsrichtungen.append(\"West\")\n",
        "\n",
        "# Anzeige der gesamten Namensliste\n",
        "print(namensliste)\n",
        "\n",
        "# Anzeige der Himmelsrichtungen\n",
        "print(himmelsrichtungen)"
      ],
      "execution_count": null,
      "outputs": [
        {
          "output_type": "stream",
          "text": [
            "['Uli', 'Anna', 'Emil', 'Sophia']\n",
            "['Nord', 'Ost', 'Süd', 'West']\n"
          ],
          "name": "stdout"
        }
      ]
    },
    {
      "cell_type": "markdown",
      "metadata": {
        "id": "fsLGVNUrqxCT"
      },
      "source": [
        "### Zugriff auf einzelne Felder eines Arrays\n",
        "Auf die einzelnen Arraywerte (auch als Felder bezeichnet) wird über den Index zugegriffen.\n",
        "Beachte, dass der Index eines Arrays bei 0 beginnt. Das erste Feld eines Arrays wird also über Array[0] addressiert."
      ]
    },
    {
      "cell_type": "code",
      "metadata": {
        "id": "HJibIsLLqxCU"
      },
      "source": [
        "# Zugriff auf die einzelnen Arraywerte (Felder) mit dem Index\n",
        "himmelsrichtungen = [\"Nord\", \"Ost\", \"Süd\", \"West\"]\n",
        "print(himmelsrichtungen[3])  \t\t#Ausgabe: West\n",
        "print(himmelsrichtungen[0])  \t\t#Ausgabe: Nord"
      ],
      "execution_count": null,
      "outputs": []
    },
    {
      "cell_type": "markdown",
      "metadata": {
        "id": "Rqo8E1_qqxCb"
      },
      "source": [
        "### Hinzufügen und Ändern von Arrayelementen\n",
        "Felder (Elemente) können immer nur am Ende eines Arrays hinzugefügt werden.\n",
        "Einzelne Felder werden durch die Adressierung über den Index und die Zuweisung eines neuen Wertes geändert."
      ]
    },
    {
      "cell_type": "code",
      "metadata": {
        "id": "GNApWuOsqxCb",
        "outputId": "7e126705-3ae3-4d0f-ace8-5caae8ddb1e5"
      },
      "source": [
        "# Hinzufügen und Verändern von Elementen\n",
        "training = [\"Montag\", \" Donnerstag \"]\n",
        "training[0] = \"Dienstag\" # Verändern des ersten Wertes\n",
        "training.append(\"Freitag\") # Hinzufügen am Ende\n",
        "training[2]= \"Samstag\" # Verändern des dritten Wertes\n",
        "\n",
        "print(\"Trainingstage: \", training)"
      ],
      "execution_count": null,
      "outputs": [
        {
          "output_type": "stream",
          "text": [
            "Trainingstage:  ['Dienstag', ' Donnerstag ', 'Samstag']\n"
          ],
          "name": "stdout"
        }
      ]
    },
    {
      "cell_type": "markdown",
      "metadata": {
        "id": "PXmoBonQqxCf"
      },
      "source": [
        "### Anzahl Elemente in einem Array\n",
        "Die Anzahl der Elemente in einem Array kann mit der Funktion len(array) festgestellt werden."
      ]
    },
    {
      "cell_type": "code",
      "metadata": {
        "id": "x5G9OjYxqxCg",
        "outputId": "412989fa-6864-44b2-94ff-67b350f9227b"
      },
      "source": [
        "# Anzahl der Elemente eines Arrays\n",
        "training = [\"Montag\", \"Mittwoch\", \"Freitag\"]\n",
        "anzahl = len(training)\n",
        "print(\"Anzahl Trainingstage:\", anzahl)\n",
        "\n",
        "# Die Trainingstage im Einzelnen\n",
        "for i in range(len(training)):\n",
        "    print(training[i])"
      ],
      "execution_count": null,
      "outputs": [
        {
          "output_type": "stream",
          "text": [
            "Anzahl Trainingstage: 3\n",
            "Montag\n",
            "Mittwoch\n",
            "Freitag\n"
          ],
          "name": "stdout"
        }
      ]
    },
    {
      "cell_type": "code",
      "metadata": {
        "id": "FEcsW-_NqxCk"
      },
      "source": [
        ""
      ],
      "execution_count": null,
      "outputs": []
    }
  ]
}