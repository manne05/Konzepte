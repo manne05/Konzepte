{
  "nbformat": 4,
  "nbformat_minor": 0,
  "metadata": {
    "kernelspec": {
      "display_name": "Python 3",
      "language": "python",
      "name": "python3"
    },
    "language_info": {
      "codemirror_mode": {
        "name": "ipython",
        "version": 3
      },
      "file_extension": ".py",
      "mimetype": "text/x-python",
      "name": "python",
      "nbconvert_exporter": "python",
      "pygments_lexer": "ipython3",
      "version": "3.7.6"
    },
    "colab": {
      "name": "A3.2-Gewinnziehung.ipynb",
      "provenance": [],
      "collapsed_sections": [],
      "include_colab_link": true
    }
  },
  "cells": [
    {
      "cell_type": "markdown",
      "metadata": {
        "id": "view-in-github",
        "colab_type": "text"
      },
      "source": [
        "<a href=\"https://colab.research.google.com/github/manne05/Konzepte/blob/master/A3_2_Gewinnziehung.ipynb\" target=\"_parent\"><img src=\"https://colab.research.google.com/assets/colab-badge.svg\" alt=\"Open In Colab\"/></a>"
      ]
    },
    {
      "cell_type": "markdown",
      "metadata": {
        "id": "vVkrjsimWqvl"
      },
      "source": [
        "# Gewinnziehung\n",
        "\n",
        "### Problemstellung\n",
        "Bei unserem Event gibt es eine große Gewinnlotterie mit großartigen Sachpreisen. \n",
        "Dafür konnten sich Interessierte ein Los kaufen. \n",
        "\n",
        "Am Abend des Events findet die Ziehung der Gewinnerlose statt. Der Ziehungsleiter soll die Möglichkeit erhalten, die gezogenen Losnummern in einem Array zu speichern. Nachdem die fünf Losnummern mit Gewinnen gezogen worden sind, sollen sie ausgegeben werden."
      ]
    },
    {
      "cell_type": "markdown",
      "metadata": {
        "id": "GbCeECjDWqvl"
      },
      "source": [
        "### Losnummern speichern\n",
        "Implementiere ein Array, das fünf Losnummern aufnimmt. \n",
        "Fordere den Anwender zur Eingabe auf, bis fünf Losnummern eingegeben wurden. \n",
        "Die Nummern können als String gespeichert werden, da mit ihnen keine Berechnung durchgeführt wird."
      ]
    },
    {
      "cell_type": "code",
      "metadata": {
        "id": "t_BEFphXWqvl"
      },
      "source": [
        "# Leeres Array deklarieren und initialisieren\n",
        "losnummern = []\n",
        "\n",
        "# 5 Losnummern in einer for - Schleife einlesen\n",
        "for i in range(5):\n",
        "  nr = input(\"Gezogene Losnummer: \")\n",
        "  losnummern.append(nr)         \n",
        "    # append() hängt den Inhalt der Variablen nr an das Ende des Arrays\n",
        "    "
      ],
      "execution_count": null,
      "outputs": []
    },
    {
      "cell_type": "markdown",
      "metadata": {
        "id": "unnN2q3KWqvn"
      },
      "source": [
        "### Losnummern ausgeben\n",
        "\n",
        "Gib die gespeicherten Nummern wieder am Bildschirm aus. \n",
        "Verwende für jede Nummer eine neue Zeile.\n",
        "Überschrift ---Gewinnlose---"
      ]
    },
    {
      "cell_type": "code",
      "metadata": {
        "id": "fQmn1yrVWqvn"
      },
      "source": [
        "# Ausgabe der losnummern\n",
        "print(\"---Gewinnlose---\")\n",
        "\n",
        "for i in range(5):\n",
        "  print(losnummern[i])"
      ],
      "execution_count": null,
      "outputs": []
    },
    {
      "cell_type": "code",
      "metadata": {
        "id": "LBzCtC7cWqvn"
      },
      "source": [
        ""
      ],
      "execution_count": null,
      "outputs": []
    }
  ]
}