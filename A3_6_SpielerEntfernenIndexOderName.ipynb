{
  "nbformat": 4,
  "nbformat_minor": 0,
  "metadata": {
    "kernelspec": {
      "display_name": "Python 3",
      "language": "python",
      "name": "python3"
    },
    "language_info": {
      "codemirror_mode": {
        "name": "ipython",
        "version": 3
      },
      "file_extension": ".py",
      "mimetype": "text/x-python",
      "name": "python",
      "nbconvert_exporter": "python",
      "pygments_lexer": "ipython3",
      "version": "3.7.6"
    },
    "colab": {
      "name": "A3.6.SpielerEntfernenIndexOderName.ipynb",
      "provenance": [],
      "include_colab_link": true
    }
  },
  "cells": [
    {
      "cell_type": "markdown",
      "metadata": {
        "id": "view-in-github",
        "colab_type": "text"
      },
      "source": [
        "<a href=\"https://colab.research.google.com/github/manne05/Konzepte/blob/master/A3_6_SpielerEntfernenIndexOderName.ipynb\" target=\"_parent\"><img src=\"https://colab.research.google.com/assets/colab-badge.svg\" alt=\"Open In Colab\"/></a>"
      ]
    },
    {
      "cell_type": "markdown",
      "metadata": {
        "id": "jxUynxerENbW"
      },
      "source": [
        "# Aufgabenstellung\n",
        "Die Software des Trainers der Abteilung Volleyball enthält ein Array mit allen Spielernamen des Mannschaftskaders.  \n",
        "kader =\t[\"Armin\", \"Batu\", \"Kai\", \"Sven\", \"Paul\", \"Milan\", \"Goran\", \"Chris\", \"Nico\", \n",
        " \t \"Dennis\", \"Emin\", \"Luca\"]\n",
        "\n",
        "Mit Hilfe Deiner Software soll es möglich sein, Spieler aus dem Spielerkader zu entfernen:\n",
        "z. B.:\tSpieler entfernen: Paul \n",
        "vielleicht möchte unser Trainer auch einen Spieler an einer bestimmten Position im Array entfernen:\n",
        "z. B.: Spieler an Position entfernen: 5\n",
        "\n",
        "Das Array kader soll danach folgenden Inhalt haben:\n",
        "\n",
        "kader = [\"Armin\", \"Batu\", \"Kai\", \"Sven\", \"Milan\", \"Goran\", \"Chris\", \"Nico\", \n",
        " \"Dennis\", \"Emin\", \"Luca\"]\n",
        "\n",
        "## schrittweise Vorgehensweise\n",
        "\n",
        "### 1. Anzeige des aktuellen Kaders\n",
        "Implementiere eine Funktion zeige_kader(), mit der das Array zeilenweise angezeigt wird."
      ]
    },
    {
      "cell_type": "code",
      "metadata": {
        "id": "Aw9PhmYuENbZ"
      },
      "source": [
        "# Deklaration und Initialisierung des Arrays kader\n",
        "kader =\t[\"Armin\", \"Batu\", \"Kai\", \"Sven\", \"Paul\", \"Milan\", \"Goran\", \"Chris\", \"Nico\", \"Dennis\", \"Emin\", \"Luca\"]\n",
        "\n",
        "# Anzeige des aktuellen Kaders: zeige_kader()\n",
        "def zeige_kader():\n",
        "    print(\"------------------------\")\n",
        "    print(\"Kader\")\n",
        "    print(\"------------------------\")\n",
        "    for i in range(len(kader)):\n",
        "        print(\"Position: \", i+1, \"  \", kader[i])"
      ],
      "execution_count": null,
      "outputs": []
    },
    {
      "cell_type": "code",
      "metadata": {
        "id": "Vd8ecsHLENba"
      },
      "source": [
        "zeige_kader()"
      ],
      "execution_count": null,
      "outputs": []
    },
    {
      "cell_type": "markdown",
      "metadata": {
        "id": "HoYkA4BVENbb"
      },
      "source": [
        "### 2. Trainer wählt aus\n",
        "Trainer trifft Auswahl, ob er einen Spieler nach Name oder nach Position entfernen will.\n",
        "\n",
        "Treffen Sie eine Wahl: Spieler nach Name (n) oder nach Position (p) entfernen?\n",
        "\n",
        "Implementiere die Funktion treffe_Auswahl()"
      ]
    },
    {
      "cell_type": "code",
      "metadata": {
        "id": "Iw3y541oENbc"
      },
      "source": [
        "# Funktion treffe_Auswahl()\n",
        "def treffe_Auswahl():\n",
        "    auswahl = input(\"Bitte auswählen: Spieler nach Name oder nach Position entfernen (n / p)\")\n",
        "    return auswahl"
      ],
      "execution_count": null,
      "outputs": []
    },
    {
      "cell_type": "markdown",
      "metadata": {
        "id": "X1AwHRptENbd"
      },
      "source": [
        "### 3. Spieler aus Array entfernen\n",
        "Implementiere eine Funktion entferne_spieler(), mit der ein Spieler aus dem Array entfernt wird."
      ]
    },
    {
      "cell_type": "code",
      "metadata": {
        "id": "_nfl3cFmENbd"
      },
      "source": [
        "# Auswahl treffen\n",
        "auswahl = treffe_Auswahl()\n",
        "\n",
        "# Funktion entferne_spieler()\n",
        "def entferne_spieler(auswahl):\n",
        "    if auswahl == 'p':\n",
        "        pos = int(input(\"Position\"))\n",
        "        kader.pop(pos - 1)\n",
        "    elif auswahl == 'n':\n",
        "        name = input(\"Spielername: \")\n",
        "        kader.remove(name)\n",
        "    else:\n",
        "        print(\"Ungültige Auswahl!\")\n",
        "\n",
        "entferne_spieler(auswahl)\n",
        "zeige_kader()"
      ],
      "execution_count": null,
      "outputs": []
    },
    {
      "cell_type": "code",
      "metadata": {
        "id": "1PyIcTaQENbe"
      },
      "source": [
        "# Funktionen aufrufen \n",
        "# 1. zeige_kader(), 2. treffe_Auswahl(), 3. entferne_spieler, 4. zeige_kader()\n",
        "zeige_kader()\n",
        "auswahl = treffe_Auswahl()\n",
        "entferne_spieler(auswahl)\n",
        "zeige_kader()\n"
      ],
      "execution_count": null,
      "outputs": []
    },
    {
      "cell_type": "code",
      "metadata": {
        "id": "zrlNWFcbENbf"
      },
      "source": [
        ""
      ],
      "execution_count": null,
      "outputs": []
    }
  ]
}