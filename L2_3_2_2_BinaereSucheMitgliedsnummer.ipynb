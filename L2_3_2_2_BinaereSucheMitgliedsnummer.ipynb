{
  "nbformat": 4,
  "nbformat_minor": 0,
  "metadata": {
    "kernelspec": {
      "display_name": "Python 3",
      "language": "python",
      "name": "python3"
    },
    "language_info": {
      "codemirror_mode": {
        "name": "ipython",
        "version": 3
      },
      "file_extension": ".py",
      "mimetype": "text/x-python",
      "name": "python",
      "nbconvert_exporter": "python",
      "pygments_lexer": "ipython3",
      "version": "3.7.6"
    },
    "colab": {
      "name": "L2 3.2.2 BinaereSucheMitgliedsnummer.ipynb",
      "provenance": [],
      "include_colab_link": true
    }
  },
  "cells": [
    {
      "cell_type": "markdown",
      "metadata": {
        "id": "view-in-github",
        "colab_type": "text"
      },
      "source": [
        "<a href=\"https://colab.research.google.com/github/manne05/Konzepte/blob/master/L2_3_2_2_BinaereSucheMitgliedsnummer.ipynb\" target=\"_parent\"><img src=\"https://colab.research.google.com/assets/colab-badge.svg\" alt=\"Open In Colab\"/></a>"
      ]
    },
    {
      "cell_type": "markdown",
      "metadata": {
        "id": "9K2c8XqB2AUP"
      },
      "source": [
        "# Binearer Suchalgorithmus\n",
        "## Funktionsweise\n",
        "Ein Array oder eine andere Datenstruktur oder auch eine Datenbank wird nach einem bestimmten Wert durchsucht. \n",
        "\n",
        "### Vorbedingung\n",
        "Idealerweise ist das Array aufsteigend oder absteigend sortiert. Wenn das Array noch nicht sortiert ist, müssen wir es zuerst mit einem geeigneten Sortieralgorithmus ordnen. \n",
        "\n",
        "### Suchen\n",
        "Wir beginnen mit der Suche in der Mitte des Arrays. Wenn der Wert in der Mitte des Arrays dem gesuchten Wert entspricht, ist unsere Suche beendet.\n",
        "\n",
        "### Gefunden?\n",
        "Falls nicht, teilen wir das Array an dieser Stelle und suchen in der Hälfte weiter, in dem der gesuchte Wert jetzt wahrscheinlich liegt. Ist der gesuchte Wert kleiner als der Wert in der Mitte wird in der linken Hälfte gesucht, sonst in der rechten Hälfte. \n",
        "\n",
        "### Neue Suche\n",
        "In dem neuen Teil des Arrays wird wieder die Mitte ermittelt, der Wert an dieser Stelle mit dem gesuchten Wert verglichen usw. bis der Wert gefunden wird oder die Suche erfolglos endet.\n",
        "\n",
        "### Ende\n",
        "Die Suche endet dann erfolglos, wenn die linke und die rechte Grenze des Arrays übereinstimmen, die Länge des Arrays in dem gesucht werden kann auf 0 geschrumpft ist.\n",
        "\n",
        "\n",
        "## Aufgabenstellung\n",
        "Implementiere ein Programm, das überprüft, ob ein Besucher der Mitgliederversammlung zugangsberechtigt ist. \n",
        "Dafür soll am Eingang die Mitgliedsnummer in das Programm eingegeben werden. \n",
        "Nach Eingabe der Mitgliedsnummer wird geprüft, ob die eingegebene Nummer existiert. \n",
        "Alle vergebenen Mitgliedsnummern des Vereins sind im Array mnr erfasst. \n",
        "\n",
        "mnr =  [1001, 1019, 1014, 1009, 1005, 1002, 1018, 1008, 1003, 1010, 1007, 1004, 1020, 1013, 1015, 1011, 1017, 1012, 1006, 1016]\n",
        "\n",
        "Wird die eingegebene Mitgliedsnummer gefunden, soll die Meldung „Zutritt gewährt“ ausgegeben werden. \n",
        "Wird die Nummer nicht gefunden, soll die Meldung „Zutritt verweigert“ erscheinen.\n",
        "\n",
        "## Lösung der Aufgabe\n",
        "### Deklaration und Initialisierung des Arrays mnr"
      ]
    },
    {
      "cell_type": "code",
      "metadata": {
        "id": "VQxQKKjj2AUT"
      },
      "source": [
        "mnr =  [1001, 1019, 1014, 1009, 1005, 1002, 1018, 1008, 1003, 1010, 1007, 1004, 1020, 1013, 1015, 1011, 1017, 1012, 1006, 1016]"
      ],
      "execution_count": null,
      "outputs": []
    },
    {
      "cell_type": "markdown",
      "metadata": {
        "id": "Bs1zjIdF2AUU"
      },
      "source": [
        "### Länge des Arrays ermitteln\n",
        "Die Anzahl Elemente des Arrays wird in der Variablen laenge gespeichert."
      ]
    },
    {
      "cell_type": "code",
      "metadata": {
        "id": "3ooaJf3x2AUV"
      },
      "source": [
        "laenge = len(mnr)"
      ],
      "execution_count": null,
      "outputs": []
    },
    {
      "cell_type": "markdown",
      "metadata": {
        "id": "cbFx3HrA2AUV"
      },
      "source": [
        "### Array muss noch sortiert werden\n",
        "Da unser Array noch nicht sortiert ist, sortieren wir zunächst mit dem Bubble Sort unser Array"
      ]
    },
    {
      "cell_type": "code",
      "metadata": {
        "id": "5Em6mv5Z2AUV"
      },
      "source": [
        "#Sortieurng mit Bubble Sort\n",
        "for i in range(1,laenge):\n",
        "    for j in range(0,laenge-i):\n",
        "        if mnr[j] > mnr[j+1]:\n",
        "            zwischenspeicher = mnr[j]\n",
        "            mnr[j] = mnr[j+1]\n",
        "            mnr[j+1] = zwischenspeicher"
      ],
      "execution_count": null,
      "outputs": []
    },
    {
      "cell_type": "markdown",
      "metadata": {
        "id": "3x-ZTgK52AUW"
      },
      "source": [
        "### Mitgliedsnummer eingeben\n",
        "Die Mitgliedsnummer des Besuchers wird über die Tastatur erfasst und in der Variablen meine_nr abgelegt."
      ]
    },
    {
      "cell_type": "code",
      "metadata": {
        "id": "xC32ORFF2AUW",
        "outputId": "14c06f93-a689-45d1-c1cc-8abcb41d23bb"
      },
      "source": [
        "meine_nr = int(input(\"Bitte Mitgliedsnummer eingeben: \"))"
      ],
      "execution_count": null,
      "outputs": [
        {
          "output_type": "stream",
          "text": [
            "Bitte Mitgliedsnummer eingeben: 1015\n"
          ],
          "name": "stdout"
        }
      ]
    },
    {
      "cell_type": "markdown",
      "metadata": {
        "id": "SIZfv2Cj2AUX"
      },
      "source": [
        "### Mitgliedsnummer im Array mnr suchen\n",
        "In einer While - Schleife wird in der Mitte des Arrays nach der Mitgliedsnummer gesucht. Wenn die Werte übereinstimmen wird eine Variable gefunden auf wahr (True) gesetzt. Ansonsten wird auf der linken oder rechten Seite des Arrays weitergesucht."
      ]
    },
    {
      "cell_type": "code",
      "metadata": {
        "id": "krvWoGus2AUY"
      },
      "source": [
        "links = 0                      # linke Grenze des Arrays --> Anfang\n",
        "rechts = laenge - 1            # rechte Grenze des Arrays --> Ende\n",
        "gefunden = False               # boolsche Variable gefunden deklarieren und mit falsch (False) initialisieren\n",
        "while not gefunden and links <= rechts:\n",
        "    mitte = int((links + rechts) / 2)   # mittleres Element berechnen\n",
        "    if mnr[mitte] == meine_nr:     # Werte stimmen überein\n",
        "        gefunden = True\n",
        "    elif mnr[mitte] > meine_nr:\n",
        "        rechts = mitte - 1         # rechte Grenze des Arrays wird neu festgelegt\n",
        "    else:\n",
        "        links = mitte + 1          # linke Grenze des Arrays wird neu festgelegt\n",
        "        "
      ],
      "execution_count": null,
      "outputs": []
    },
    {
      "cell_type": "markdown",
      "metadata": {
        "id": "HZrVaJxN2AUY"
      },
      "source": [
        "### Auswertung der Prüfung\n",
        "Auswertung der boolschen Variablen gefunden und Ausgabe einer entsprechenden Meldung."
      ]
    },
    {
      "cell_type": "code",
      "metadata": {
        "id": "G5KqMTG12AUY",
        "outputId": "024ce0a2-1244-4504-8ee6-053fb043e904"
      },
      "source": [
        "if gefunden:\n",
        "    print(\"Gültige Mitgliedsnummer. Zutritt gewährt.\")\n",
        "else:\n",
        "    print(\"Kein Zutritt!\")"
      ],
      "execution_count": null,
      "outputs": [
        {
          "output_type": "stream",
          "text": [
            "Gültige Mitgliedsnummer. Zutritt gewährt.\n"
          ],
          "name": "stdout"
        }
      ]
    },
    {
      "cell_type": "markdown",
      "metadata": {
        "id": "LE37LMZN2AUZ"
      },
      "source": [
        "## Erweiterung der Aufgabe\n",
        "### Eingabe und Auswertung mehrerer Mitgliedsnummern\n",
        "Damit das Programm nicht bei jedem Besucher neu gestartet werden muss, wird das Programm um eine weitere\n",
        "Schleife erweitert.\n",
        "\n",
        "Das Programm wird einmal gestartet und läuft solange in einer weiteren while Schleife, bis eine Mitgliedsnummer \n",
        "eingegeben wird die gleich oder kleiner 0 ist.\n",
        "Ansonsten bleibt das Programm gleich."
      ]
    },
    {
      "cell_type": "code",
      "metadata": {
        "id": "yYzbtSBl2AUZ",
        "outputId": "3d4a6a59-c4f7-4fba-9909-902f7ed8b0ac"
      },
      "source": [
        "# Array mnr deklarieren und initialisieren\n",
        "mnr =  [1001, 1019, 1014, 1009, 1005, 1002, 1018, 1008, 1003, 1010, 1007, 1004, 1020, 1013, 1015, 1011, 1017, 1012, 1006, 1016]\n",
        "\n",
        "# Länge des Arrays ermitteln\n",
        "laenge = len(mnr)\n",
        "\n",
        "#Sortieurng mit Bubble Sort\n",
        "for i in range(1,laenge):\n",
        "    for j in range(0,laenge-i):\n",
        "        if mnr[j] > mnr[j+1]:\n",
        "            zwischenspeicher = mnr[j]\n",
        "            mnr[j] = mnr[j+1]\n",
        "            mnr[j+1] = zwischenspeicher\n",
        "\n",
        "# Variable meine_nr deklarieren und mit 1 initialisieren\n",
        "print(\"----------- Zutrittskontrolle -------------\")\n",
        "meine_nr = int(input(\"Bitte Mitgliedsnummer eingeben: \"))\n",
        "\n",
        "# while Schleife der Eintrittskontrolle\n",
        "while meine_nr > 0:\n",
        "    gefunden = False               # boolsche Variable gefunden deklarieren und mit falsch (False) initialisieren\n",
        "    links = 0                      # linke Grenze des Arrays --> Anfang\n",
        "    rechts = laenge - 1            # rechte Grenze des Arrays --> Ende\n",
        "    while not gefunden and links <= rechts:\n",
        "        mitte = int((links + rechts) / 2)   # mittleres Element berechnen\n",
        "        if mnr[mitte] == meine_nr:     # Werte stimmen überein\n",
        "            gefunden = True\n",
        "        elif mnr[mitte] > meine_nr:\n",
        "            rechts = mitte - 1\n",
        "        else:\n",
        "            links = mitte + 1\n",
        "    \n",
        "    # Auswertung der Suche      \n",
        "    if gefunden:\n",
        "        print(\"Gültige Mitgliedsnummer. Zutritt gewährt.\")\n",
        "    else:\n",
        "        print(\"Kein Zutritt! -- Mitgliedsnummer ist ungültig!\")\n",
        "        \n",
        "    print(\"----------- Zutrittskontrolle -------------\")\n",
        "    meine_nr = int(input(\"Bitte Mitgliedsnummer eingeben: \"))\n",
        "    \n",
        "print(\"------------ Programmende ---------------\")"
      ],
      "execution_count": null,
      "outputs": [
        {
          "output_type": "stream",
          "text": [
            "----------- Zutrittskontrolle -------------\n",
            "Bitte Mitgliedsnummer eingeben: 1000\n",
            "Kein Zutritt! -- Mitgliedsnummer ist ungültig!\n",
            "----------- Zutrittskontrolle -------------\n",
            "Bitte Mitgliedsnummer eingeben: 1018\n",
            "Gültige Mitgliedsnummer. Zutritt gewährt.\n",
            "----------- Zutrittskontrolle -------------\n",
            "Bitte Mitgliedsnummer eingeben: 0\n",
            "------------ Programmende ---------------\n"
          ],
          "name": "stdout"
        }
      ]
    },
    {
      "cell_type": "code",
      "metadata": {
        "id": "xMqr5Te32AUa"
      },
      "source": [
        ""
      ],
      "execution_count": null,
      "outputs": []
    }
  ]
}