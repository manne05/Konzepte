{
  "nbformat": 4,
  "nbformat_minor": 0,
  "metadata": {
    "kernelspec": {
      "display_name": "Python 3",
      "language": "python",
      "name": "python3"
    },
    "language_info": {
      "codemirror_mode": {
        "name": "ipython",
        "version": 3
      },
      "file_extension": ".py",
      "mimetype": "text/x-python",
      "name": "python",
      "nbconvert_exporter": "python",
      "pygments_lexer": "ipython3",
      "version": "3.7.6"
    },
    "colab": {
      "name": "ZahlenreiheBubbleSort.ipynb",
      "provenance": [],
      "include_colab_link": true
    }
  },
  "cells": [
    {
      "cell_type": "markdown",
      "metadata": {
        "id": "view-in-github",
        "colab_type": "text"
      },
      "source": [
        "<a href=\"https://colab.research.google.com/github/manne05/Konzepte/blob/master/ZahlenreiheBubbleSort.ipynb\" target=\"_parent\"><img src=\"https://colab.research.google.com/assets/colab-badge.svg\" alt=\"Open In Colab\"/></a>"
      ]
    },
    {
      "cell_type": "markdown",
      "metadata": {
        "id": "qZeeIrPsjRcK"
      },
      "source": [
        "# Aufgabe L2 2.1.2 Zahlenreihe Bubble Sort\n",
        "Eine Zahlenreihe, bestehend aus fünf Zahlen, die über die Tastatur eingegeben werden, soll mit Hilfe des Bubble Sort Algorithmus sortiert werden.\n",
        "\n",
        "# Lösung der Aufgabe\n",
        "## Array zahlen deklarieren "
      ]
    },
    {
      "cell_type": "code",
      "metadata": {
        "id": "LUiiNGijjRcN"
      },
      "source": [
        "zahlen = []"
      ],
      "execution_count": null,
      "outputs": []
    },
    {
      "cell_type": "markdown",
      "metadata": {
        "id": "QywKYQ81jRcO"
      },
      "source": [
        "## Eingabe von fünf zahlen\n",
        "Zahlen werden mit append() zum Array zahlen hinzugefügt"
      ]
    },
    {
      "cell_type": "code",
      "metadata": {
        "id": "tBmmeHtojRcP"
      },
      "source": [
        "zahlen.append(int(input(\"Zahl 1: \")))\n",
        "zahlen.append(int(input(\"Zahl 2: \")))\n",
        "zahlen.append(int(input(\"Zahl 3: \")))\n",
        "zahlen.append(int(input(\"Zahl 4: \")))\n",
        "zahlen.append(int(input(\"Zahl 5: \")))"
      ],
      "execution_count": null,
      "outputs": []
    },
    {
      "cell_type": "markdown",
      "metadata": {
        "id": "0xZKKlnrjRcS"
      },
      "source": [
        "## Länge unseres Arrays in einer Variablen festhalten"
      ]
    },
    {
      "cell_type": "code",
      "metadata": {
        "id": "DrCJLzbojRcT"
      },
      "source": [
        "laenge = len(zahlen)"
      ],
      "execution_count": null,
      "outputs": []
    },
    {
      "cell_type": "markdown",
      "metadata": {
        "id": "fF7gcRMvjRcT"
      },
      "source": [
        "## Sortierung des Arrays\n",
        "- Erste SchleifeArray von der Position 1 bis zum Ende einmal durchlaufen\n",
        "- Zweite Schleife: Array von der Position 0 bis zur vorletzten Position durchlaufen\n",
        "- Prüfen, ob die Zahl an der Position j größer ist als die Zahl an der nächsten Position (j+1).Wenn ja, werden beide Zahlen über einen zwischenspeicher getauscht.\n",
        "Wenn nein, passiert nichts."
      ]
    },
    {
      "cell_type": "code",
      "metadata": {
        "id": "Ilqxlp-2jRcU"
      },
      "source": [
        "for i in range(1,laenge):\n",
        "    for j in range(laenge-i):\n",
        "        if zahlen[j] > zahlen[j+1]:\n",
        "            zwischenspeicher = zahlen[j]\n",
        "            zahlen[j] = zahlen[j+1]\n",
        "            zahlen[j+1] = zwischenspeicher"
      ],
      "execution_count": null,
      "outputs": []
    },
    {
      "cell_type": "markdown",
      "metadata": {
        "id": "BxTOup9RjRcV"
      },
      "source": [
        "## Ausgabe des sortierten Arrays"
      ]
    },
    {
      "cell_type": "code",
      "metadata": {
        "id": "Gsu2Ov4WjRcV"
      },
      "source": [
        "for i in range(laenge):\n",
        "    print(zahlen[i])"
      ],
      "execution_count": null,
      "outputs": []
    }
  ]
}