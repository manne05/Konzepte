{
  "nbformat": 4,
  "nbformat_minor": 0,
  "metadata": {
    "kernelspec": {
      "display_name": "Python 3",
      "language": "python",
      "name": "python3"
    },
    "language_info": {
      "codemirror_mode": {
        "name": "ipython",
        "version": 3
      },
      "file_extension": ".py",
      "mimetype": "text/x-python",
      "name": "python",
      "nbconvert_exporter": "python",
      "pygments_lexer": "ipython3",
      "version": "3.7.6"
    },
    "colab": {
      "name": "A3.1.2-Volleyballspieler-anzeigen.ipynb",
      "provenance": [],
      "include_colab_link": true
    }
  },
  "cells": [
    {
      "cell_type": "markdown",
      "metadata": {
        "id": "view-in-github",
        "colab_type": "text"
      },
      "source": [
        "<a href=\"https://colab.research.google.com/github/manne05/Konzepte/blob/master/A3_1_2_Volleyballspieler_anzeigen.ipynb\" target=\"_parent\"><img src=\"https://colab.research.google.com/assets/colab-badge.svg\" alt=\"Open In Colab\"/></a>"
      ]
    },
    {
      "cell_type": "markdown",
      "metadata": {
        "id": "KyYJ2WubwxqN"
      },
      "source": [
        "# Volleyballspieler anzeigen\n",
        "### Problemstellung\n",
        "\n",
        "Die Abteilung Volleyball des Sportvereines Mühlberger SC besteht zurzeit aus 12 Spielern. \n",
        "\n",
        "Die Namen der Stammspieler sind in dem Array spieler in der Reihenfolge ihrer Startpositionen erfasst.\n",
        "spieler = [\"Armin\", \"Batu\", \"Kai\", \"Sven\", \"Paul\", \"Milan\"];\n",
        "\n",
        "Die Ersatzspieler sind im Array ersatz in alphabetischer Reihenfolge erfasst.\n",
        "ersatz =  [\"Chris\", \"Dennis\", \"Emin\", \"Goran\", \"Luca\", \"Nico\"];\n",
        "\n",
        "Der Trainer der Mannschaft möchte eine Software, mit deren Hilfe er sich die Namen der Stammspieler, die der Ersatzspieler und die des gesamten Kaders anzeigen lassen kann. \n"
      ]
    },
    {
      "cell_type": "code",
      "metadata": {
        "colab": {
          "base_uri": "https://localhost:8080/"
        },
        "id": "6ojODF8rwxqO",
        "outputId": "d01a5fda-a188-4157-80d9-021d0ba86a63"
      },
      "source": [
        "spieler = [\"Armin\", \"Batu\", \"Kai\", \"Sven\", \"Paul\", \"Milan\"]\n",
        "ersatz  = [\"Chris\", \"Dennis\", \"Emin\", \"Goran\", \"Luca\", \"Nico\"]\n",
        "\n",
        "print(\"(1) Startaufstellung anzeigen\")\n",
        "print(\"(2) Ersatzspieler anzeigen\")\n",
        "print(\"(3) Kader anzeigen\")\n",
        "\n",
        "anzeige = int(input(\"Anzeigewunsch (1-3): \"))\n",
        "\n",
        "# Implementierung der Funktion zeige_startaufstellung\n",
        "def zeige_startaufstellung():\n",
        "    print(\"-\"*20)\n",
        "    print(\"Startaufstellung\")\n",
        "    print(\"-\"*20)\n",
        "    for i in range(len(spieler)):\n",
        "        print(spieler[i])\n",
        "\n",
        "# Implementierung der Funktion zeige_ersatzspieler\n",
        "def zeige_ersatzspieler():\n",
        "    print(\"-\"*20)\n",
        "    print(\"Ersatzspieler\")\n",
        "    print(\"-\"*20)\n",
        "    for i in range(len(ersatz)):\n",
        "        print(ersatz[i])\n",
        "\n",
        "# Implementierung der Funktion zeige_kader    \n",
        "def zeige_kader():\n",
        "    print(\"-\"*20)\n",
        "    print(\"Kader\")\n",
        "    print(\"-\"*20)\n",
        "    for i in range(len(spieler)):\n",
        "        print(spieler[i])\n",
        "    for i in range(len(ersatz)):\n",
        "        print(ersatz[i])    \n",
        "    \n",
        "\n",
        "if anzeige == 1: zeige_startaufstellung()    \n",
        "\n",
        "elif anzeige == 2: zeige_ersatzspieler()   \n",
        "\n",
        "elif anzeige == 3: zeige_kader()\n",
        "           "
      ],
      "execution_count": 1,
      "outputs": [
        {
          "output_type": "stream",
          "text": [
            "(1) Startaufstellung anzeigen\n",
            "(2) Ersatzspieler anzeigen\n",
            "(3) Kader anzeigen\n",
            "Anzeigewunsch (1-3): 3\n",
            "--------------------\n",
            "Kader\n",
            "--------------------\n",
            "Armin\n",
            "Batu\n",
            "Kai\n",
            "Sven\n",
            "Paul\n",
            "Milan\n",
            "Chris\n",
            "Dennis\n",
            "Emin\n",
            "Goran\n",
            "Luca\n",
            "Nico\n"
          ],
          "name": "stdout"
        }
      ]
    },
    {
      "cell_type": "code",
      "metadata": {
        "id": "5PGqcFXAwxqP"
      },
      "source": [
        ""
      ],
      "execution_count": null,
      "outputs": []
    }
  ]
}