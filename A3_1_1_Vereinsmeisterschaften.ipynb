{
  "nbformat": 4,
  "nbformat_minor": 0,
  "metadata": {
    "kernelspec": {
      "display_name": "Python 3",
      "language": "python",
      "name": "python3"
    },
    "language_info": {
      "codemirror_mode": {
        "name": "ipython",
        "version": 3
      },
      "file_extension": ".py",
      "mimetype": "text/x-python",
      "name": "python",
      "nbconvert_exporter": "python",
      "pygments_lexer": "ipython3",
      "version": "3.7.6"
    },
    "colab": {
      "name": "A3.1.1-Vereinsmeisterschaften.ipynb",
      "provenance": [],
      "include_colab_link": true
    }
  },
  "cells": [
    {
      "cell_type": "markdown",
      "metadata": {
        "id": "view-in-github",
        "colab_type": "text"
      },
      "source": [
        "<a href=\"https://colab.research.google.com/github/manne05/Konzepte/blob/master/A3_1_1_Vereinsmeisterschaften.ipynb\" target=\"_parent\"><img src=\"https://colab.research.google.com/assets/colab-badge.svg\" alt=\"Open In Colab\"/></a>"
      ]
    },
    {
      "cell_type": "markdown",
      "metadata": {
        "id": "4ss7WxyPO8Ix"
      },
      "source": [
        "# Aufgabe 3.1.1 Vereinsmeisterschaften\n",
        "\n",
        "### Das Array platzierung\n",
        "Die Namen der Teilnehmer sind in der Reihenfolge ihrer Platzierung gespeichert"
      ]
    },
    {
      "cell_type": "code",
      "metadata": {
        "colab": {
          "base_uri": "https://localhost:8080/"
        },
        "id": "dYDGtbGfO8Ix",
        "outputId": "7f8429f4-b608-46c9-d0c6-4cf01684c4cf"
      },
      "source": [
        "# Das Array platzierung - Deklaration und Initialisierung mit den Teilnehmern \n",
        "platzierung = [\"Matthias Schmitt\", \"Felix Holzmann\", \"Sabrina Eggers\", \"Sebastian Wolf\", \"Niklas Eisenbaum\", \"Florian Kuster\", \"Jan Ackerman\", \"Erika Ebersbacher\"]\n",
        "# Array komplett ausgeben\n",
        "print(platzierung)"
      ],
      "execution_count": 1,
      "outputs": [
        {
          "output_type": "stream",
          "text": [
            "['Matthias Schmitt', 'Felix Holzmann', 'Sabrina Eggers', 'Sebastian Wolf', 'Niklas Eisenbaum', 'Florian Kuster', 'Jan Ackerman', 'Erika Ebersbacher']\n"
          ],
          "name": "stdout"
        }
      ]
    },
    {
      "cell_type": "markdown",
      "metadata": {
        "id": "I5ASqaaSO8Iy"
      },
      "source": [
        "### Ausgabe einer bestimmten Platzierung\n",
        "Der Benutzer wird zur Eingabe eines bestimmten Platzes aufgefordert.\n",
        "Ausgegeben wird dann der Name der TeilnehmerIn"
      ]
    },
    {
      "cell_type": "code",
      "metadata": {
        "colab": {
          "base_uri": "https://localhost:8080/"
        },
        "id": "47TlAOdVO8Iy",
        "outputId": "68c6acf8-fb77-498b-cb65-d848f7ebb9dd"
      },
      "source": [
        "platz = int(input(\"Welcher Platz soll angezeigt werden? \"))\n",
        "print(platzierung[platz - 1])"
      ],
      "execution_count": 2,
      "outputs": [
        {
          "output_type": "stream",
          "text": [
            "Welcher Platz soll angezeigt werden? 3\n",
            "Sabrina Eggers\n"
          ],
          "name": "stdout"
        }
      ]
    },
    {
      "cell_type": "markdown",
      "metadata": {
        "id": "pi_I7TwfO8Iz"
      },
      "source": [
        "### Ausgabe Anzahl der Teilnehmern\n",
        "Die Anzahl der Teilnehmer kann aus der Anzahl der vorhandenen Felder im Array platzierung ermittelt werden. Als Methode hierzu wird len() verwendet."
      ]
    },
    {
      "cell_type": "code",
      "metadata": {
        "colab": {
          "base_uri": "https://localhost:8080/"
        },
        "id": "m0jx9wBVO8Iz",
        "outputId": "becd12ae-082e-4c25-c5e5-eb9acc6589a3"
      },
      "source": [
        "print(\"Teilnehmeranzahl: \", len(platzierung))"
      ],
      "execution_count": 3,
      "outputs": [
        {
          "output_type": "stream",
          "text": [
            "Teilnehmeranzahl:  8\n"
          ],
          "name": "stdout"
        }
      ]
    },
    {
      "cell_type": "code",
      "metadata": {
        "id": "3LCOQo6DO8Iz"
      },
      "source": [
        ""
      ],
      "execution_count": 3,
      "outputs": []
    }
  ]
}