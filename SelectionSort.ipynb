{
  "nbformat": 4,
  "nbformat_minor": 0,
  "metadata": {
    "kernelspec": {
      "display_name": "Python 3",
      "language": "python",
      "name": "python3"
    },
    "language_info": {
      "codemirror_mode": {
        "name": "ipython",
        "version": 3
      },
      "file_extension": ".py",
      "mimetype": "text/x-python",
      "name": "python",
      "nbconvert_exporter": "python",
      "pygments_lexer": "ipython3",
      "version": "3.7.6"
    },
    "colab": {
      "name": "SelectionSort.ipynb",
      "provenance": [],
      "include_colab_link": true
    }
  },
  "cells": [
    {
      "cell_type": "markdown",
      "metadata": {
        "id": "view-in-github",
        "colab_type": "text"
      },
      "source": [
        "<a href=\"https://colab.research.google.com/github/manne05/Konzepte/blob/master/SelectionSort.ipynb\" target=\"_parent\"><img src=\"https://colab.research.google.com/assets/colab-badge.svg\" alt=\"Open In Colab\"/></a>"
      ]
    },
    {
      "cell_type": "markdown",
      "metadata": {
        "id": "x-2tQTKjBUGo"
      },
      "source": [
        "# Selection Sort\n",
        "## ein weiterer vergleichsbasierter Sortieralgorithmus\n",
        "Auch dieser Algorithmus beruht auf dem Vergleichen von Daten in einem Array oder in einer Liste. Es ist also wie Bubble Sort ein vergleichsbasierter Algorithmus.\n",
        "- Beim Selection Sort werden aber alle Werte in einem Array miteinander verglichen und es wird der kleinste Wert gesucht (bei aufsteigender Sortierung). \n",
        "- Dieser Wert wird dann an den Anfang des Array gestellt. \n",
        "- Anschließend wird von der zweiten Position aus (dem Restarray) wieder der kleinste Wert gesucht. Dieser wird an die zweite Stelle gesetzt usw. \n",
        "- die nächste Suche nach dem kleinsten Wert startet dann an der Position 3 usw. bis das Array vollständig sortiert ist.\n",
        "- das verbleibende Restarray wird also immer kleiner, bis der Algorithmus mit der äußeren Schleife am Ende angekommen ist\n",
        "\n",
        "## Erklärung im Programmcode"
      ]
    },
    {
      "cell_type": "code",
      "metadata": {
        "id": "_VZuSnq-BUGr"
      },
      "source": [
        "# Array zahlen deklarieren\n",
        "zahlen = [5, 4, 9, 1, 3]\n",
        "\n",
        "# Länge des Arrays in der Variablen laenge festhalten\n",
        "laenge = len(zahlen)"
      ],
      "execution_count": null,
      "outputs": []
    },
    {
      "cell_type": "markdown",
      "metadata": {
        "id": "GJloXH_qBUGr"
      },
      "source": [
        "### Äußere Schleife wird einmal durchlaufen\n",
        "- kleinster Index k wird auf die aktuelle Position i gesetzt\n",
        "- in der inneren Schleife mit j ab der Stelle i + 1 nach der kleinsten Zahl suchen\n",
        "- neuen kleinsten Index k auf j setzen, wenn Zahl kleiner\n",
        "- nach der innereren Schleife j werden die Positionen getauscht\n",
        "- die gefundenen kleinste Zahl steht an der richtigen Stelle"
      ]
    },
    {
      "cell_type": "code",
      "metadata": {
        "id": "8CalHsreBUGs"
      },
      "source": [
        "for i in range(laenge - 1):\n",
        "    k = i\n",
        "    for j in range(i + 1, laenge):\n",
        "        if zahlen[j] < zahlen[k]:\n",
        "            k = j\n",
        "    zahlen[i], zahlen[k] = zahlen[k], zahlen[i]"
      ],
      "execution_count": null,
      "outputs": []
    },
    {
      "cell_type": "markdown",
      "metadata": {
        "id": "oj2UN5vTBUGs"
      },
      "source": [
        "## sortiertes Array ausgeben"
      ]
    },
    {
      "cell_type": "code",
      "metadata": {
        "id": "mXC2YyKeBUGt",
        "outputId": "385bbab0-b9f4-4d84-9a6f-7284e6ec471c"
      },
      "source": [
        "print(zahlen)"
      ],
      "execution_count": null,
      "outputs": [
        {
          "output_type": "stream",
          "text": [
            "[1, 3, 4, 5, 9]\n"
          ],
          "name": "stdout"
        }
      ]
    },
    {
      "cell_type": "code",
      "metadata": {
        "id": "iQt2KTDMBUGu"
      },
      "source": [
        ""
      ],
      "execution_count": null,
      "outputs": []
    }
  ]
}