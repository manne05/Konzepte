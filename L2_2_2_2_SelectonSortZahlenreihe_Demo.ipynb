{
  "nbformat": 4,
  "nbformat_minor": 0,
  "metadata": {
    "kernelspec": {
      "display_name": "Python 3",
      "language": "python",
      "name": "python3"
    },
    "language_info": {
      "codemirror_mode": {
        "name": "ipython",
        "version": 3
      },
      "file_extension": ".py",
      "mimetype": "text/x-python",
      "name": "python",
      "nbconvert_exporter": "python",
      "pygments_lexer": "ipython3",
      "version": "3.7.6"
    },
    "colab": {
      "name": "L2_2.2.2_SelectonSortZahlenreihe-Demo.ipynb",
      "provenance": [],
      "include_colab_link": true
    }
  },
  "cells": [
    {
      "cell_type": "markdown",
      "metadata": {
        "id": "view-in-github",
        "colab_type": "text"
      },
      "source": [
        "<a href=\"https://colab.research.google.com/github/manne05/Konzepte/blob/master/L2_2_2_2_SelectonSortZahlenreihe_Demo.ipynb\" target=\"_parent\"><img src=\"https://colab.research.google.com/assets/colab-badge.svg\" alt=\"Open In Colab\"/></a>"
      ]
    },
    {
      "cell_type": "markdown",
      "metadata": {
        "id": "elVp1ETHGwQG"
      },
      "source": [
        "# L2 2.2.2 Selection Sort Zahlenreihe Demo Tauschvorgänge\n",
        "## eine Reihe beliebiger Zahlen sortieren\n",
        "In dieser Aufgabe sollen wieder fünf Zahlen vom Benutzer über die Tastatur eingelesen und vor der Ausgabe sortiert werden.\n",
        "\n",
        "## Erklärung im Programmcode"
      ]
    },
    {
      "cell_type": "code",
      "metadata": {
        "id": "i8tm0VoaGwQI"
      },
      "source": [
        "# leeres Array zahlen deklarieren und initialisieren\n",
        "zahlen = []\n"
      ],
      "execution_count": null,
      "outputs": []
    },
    {
      "cell_type": "markdown",
      "metadata": {
        "id": "OosghiD6GwQI"
      },
      "source": [
        "## Eingabe von fünf zahlen\n",
        "- Zahlen werden mit append() zum Array zahlen hinzugefügt"
      ]
    },
    {
      "cell_type": "code",
      "metadata": {
        "id": "iR5ltIpVGwQI"
      },
      "source": [
        "zahlen.append(int(input(\"Zahl 1: \")))\n",
        "zahlen.append(int(input(\"Zahl 2: \")))\n",
        "zahlen.append(int(input(\"Zahl 3: \")))\n",
        "zahlen.append(int(input(\"Zahl 4: \")))\n",
        "zahlen.append(int(input(\"Zahl 5: \")))"
      ],
      "execution_count": null,
      "outputs": []
    },
    {
      "cell_type": "markdown",
      "metadata": {
        "id": "v8Oe1aDsGwQI"
      },
      "source": [
        "## Erklärung Selection Sort \n",
        "### Äußere Schleife wird einmal durchlaufen\n",
        "- kleinster Index min_idx wird auf die aktuelle Position akt_idx gesetzt\n",
        "### Innere Schleife mit Tauschvorgang\n",
        "- in der inneren Schleife mit j ab der Stelle akt_idx + 1 nach der kleinsten Zahl suchen\n",
        "- neuen kleinsten Index min_idx auf j setzen, wenn Zahl kleiner ist\n",
        "- nach der innereren Schleife j werden die Positionen getauscht, wenn min_idx ungleich akt_idx ist\n",
        "- die gefundenen kleinste Zahl steht an der richtigen Stelle\n",
        "### Tauschvorgang ohne Zwischenspeichervariable\n",
        "- getauscht wird ohne Zwischenspeicher in einer Zeile\n",
        "- die auskommentierten Zeilen enthalten den Tauschvorgang mit Zwischenspeicher\n",
        "- zum Testen Kommentarzeichen # entfernen und die letzte Zeile auskommentieren\n",
        "### wie funktioniert das?\n",
        "- zahlen[akt_idx], zahlen[min_idx] = zahlen[min_idx], zahlen[akt_idx]\n",
        "- Position 1 rechts des Zuweisungszeichens = wird auf Postition 1 links des Zuweisungszeichens zugewiesen\n",
        "- Position 2 rechts des Zuweisungszeichens = wird auf Postition 2 links des Zuweisungszeichens zugewiesen \n",
        "- wenn wir das in zwei Zeilen durchführen würden, also so:\n",
        "- zahlen[akt_idx] = zahlen[min_idx]\n",
        "- zahlen[min_idx] = zahlen[akt_idx]  gibt es folgendes Ergebnis:\n",
        "- [5, 5, 7, 7, 7, 29]"
      ]
    },
    {
      "cell_type": "code",
      "metadata": {
        "id": "lIUNwEozGwQJ"
      },
      "source": [
        "# Länge des Arrays in der Variablen laenge festhalten\n",
        "laenge = len(zahlen)\n",
        "\n",
        "# selection sort - äußere Schleife - 1 Durchlauf\n",
        "for akt_idx in range(laenge):\n",
        "    min_idx = akt_idx\n",
        "    print(\"Durchgang: \", akt_idx, zahlen)\n",
        "    # innere Schleife - \n",
        "    for j in range(akt_idx + 1, laenge):\n",
        "        #Suche nach der niedrigsten Zahl\n",
        "        if zahlen[j] < zahlen[min_idx]:\n",
        "            min_idx = j\n",
        "    # Tausch, nur wenn sich die Position ändert\n",
        "    if akt_idx != min_idx:\n",
        "        print(\"Tausch: \", zahlen[akt_idx], zahlen[min_idx])\n",
        "        # zwischenspeicher = zahlen[akt_idx]\n",
        "        # zahlen[akt_idx] = zahlen [min_idx]\n",
        "        # zahlen[min_idx] = zwischenspeicher\n",
        "        zahlen[akt_idx], zahlen[min_idx] = zahlen[min_idx], zahlen[akt_idx]"
      ],
      "execution_count": null,
      "outputs": []
    },
    {
      "cell_type": "markdown",
      "metadata": {
        "id": "X0pWIAdOGwQJ"
      },
      "source": [
        "## sortiertes Array ausgeben"
      ]
    },
    {
      "cell_type": "code",
      "metadata": {
        "id": "MONnDuumGwQJ"
      },
      "source": [
        "print(zahlen)"
      ],
      "execution_count": null,
      "outputs": []
    },
    {
      "cell_type": "code",
      "metadata": {
        "id": "efCk3qtDGwQK"
      },
      "source": [
        ""
      ],
      "execution_count": null,
      "outputs": []
    }
  ]
}