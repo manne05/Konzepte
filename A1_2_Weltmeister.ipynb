{
  "nbformat": 4,
  "nbformat_minor": 0,
  "metadata": {
    "kernelspec": {
      "display_name": "Python 3",
      "language": "python",
      "name": "python3"
    },
    "language_info": {
      "codemirror_mode": {
        "name": "ipython",
        "version": 3
      },
      "file_extension": ".py",
      "mimetype": "text/x-python",
      "name": "python",
      "nbconvert_exporter": "python",
      "pygments_lexer": "ipython3",
      "version": "3.7.6"
    },
    "colab": {
      "name": "A1-2.Weltmeister.ipynb",
      "provenance": [],
      "collapsed_sections": [],
      "include_colab_link": true
    }
  },
  "cells": [
    {
      "cell_type": "markdown",
      "metadata": {
        "id": "view-in-github",
        "colab_type": "text"
      },
      "source": [
        "<a href=\"https://colab.research.google.com/github/manne05/Konzepte/blob/master/A1_2_Weltmeister.ipynb\" target=\"_parent\"><img src=\"https://colab.research.google.com/assets/colab-badge.svg\" alt=\"Open In Colab\"/></a>"
      ]
    },
    {
      "cell_type": "markdown",
      "metadata": {
        "id": "M_nLguXusAJu"
      },
      "source": [
        "# Aufgabe 1-2 Weltmeister und Weltmeistertrainer\n",
        "### Formulieren Sie den Code, der die nachfolgend beschriebenen Anweisungen ausführt.\n",
        "\n",
        "#### 1.1\tErzeugen Sie ein Array mit dem Namen weltmeister und den Werten 1954, 1974, 1990 und 2014.\n",
        "#### 1.2\tErzeugen Sie ein Array wmtrainer und den Werten „Sepp Herberger“, „Helmut Schön“ und „Franz Beckenbauer“:\n",
        "\n"
      ]
    },
    {
      "cell_type": "code",
      "metadata": {
        "id": "rBdZuY_MsAJv",
        "outputId": "b5647375-e81d-4f84-c982-a865bd2a40d7",
        "colab": {
          "base_uri": "https://localhost:8080/"
        }
      },
      "source": [
        "# ad 1.1 Deklaration und Initialisierung des Arrays weltmeister\n",
        "weltmeister = [1954, 1974, 1990, 2014]\n",
        "\n",
        "# ad 1.2 Deklaration und Initialisierung des Arrays wmtrainer\n",
        "wmtrainer = [\"Sepp Herberger\", \"Helmut Schön\", \"Franz Beckenbauer\"]\n",
        "\n",
        "# Ausgabe des bisherigen Inhalts für beide Arrays\n",
        "print(weltmeister)\n",
        "print(wmtrainer)"
      ],
      "execution_count": 1,
      "outputs": [
        {
          "output_type": "stream",
          "text": [
            "[1954, 1974, 1990, 2014]\n",
            "['Sepp Herberger', 'Helmut Schön', 'Franz Beckenbauer']\n"
          ],
          "name": "stdout"
        }
      ]
    },
    {
      "cell_type": "markdown",
      "metadata": {
        "id": "TzRtIKDUsAJ2"
      },
      "source": [
        "#### 1.3\tFügen Sie in die Liste wmtrainer den Namen „Joachim Löw“ am Ende ein:"
      ]
    },
    {
      "cell_type": "code",
      "metadata": {
        "id": "L-Waqje_sAJ3",
        "outputId": "8d4ae249-8f27-435d-d689-515201093448"
      },
      "source": [
        "# wmtrainer mit der Methode append() erweitern\n",
        "wmtrainer.append(\"Joachim Löw\")\n",
        "\n",
        "# Ausgabe des erweiterten Arrays wmtrainer\n",
        "print(wmtrainer)"
      ],
      "execution_count": null,
      "outputs": [
        {
          "output_type": "stream",
          "text": [
            "['Sepp Herberger', 'Helmut Schön', 'Franz Beckenbauer', 'Joachim Löw']\n"
          ],
          "name": "stdout"
        }
      ]
    },
    {
      "cell_type": "markdown",
      "metadata": {
        "id": "s0030MDrsAJ6"
      },
      "source": [
        "#### Ausgabe Anzahl Weltmeistertitel\n",
        "1.4 Im Array weltmeister sind die Jahre gespeichert, in denen die deutsche Fußball-Nationalmannschaft Weltmeister geworden ist. Die Anzahl der Weltmeistertitel soll in der Konsole ausgegeben werden."
      ]
    },
    {
      "cell_type": "code",
      "metadata": {
        "id": "axHYvAXusAJ7",
        "outputId": "5fa00016-0021-43ac-9f8f-1a84040e5997"
      },
      "source": [
        "# Länge eines Arrays gibt die Anzahl Elemente an, die in dem Array enthalten sind.\n",
        "# Länge eines Arrays wird mit der Funktion (len) festgestellt.\n",
        "print(len(weltmeister))"
      ],
      "execution_count": null,
      "outputs": [
        {
          "output_type": "stream",
          "text": [
            "4\n"
          ],
          "name": "stdout"
        }
      ]
    },
    {
      "cell_type": "markdown",
      "metadata": {
        "id": "nDg378lIsAJ-"
      },
      "source": [
        "#### 1.5\tAlle im Array wmtrainer gespeicherten Namen sollen in der Konsole angezeigt werden."
      ]
    },
    {
      "cell_type": "code",
      "metadata": {
        "id": "a3lbG7_tsAJ_",
        "outputId": "feaca756-402c-4a56-85e4-80885d195c5d"
      },
      "source": [
        "# Jedes Element des Arrays wmtrainer in einer Zeile ausgeben\n",
        "for i in range(len(wmtrainer)):\n",
        "    print(wmtrainer[i])          # Zugriff auf das Element erfolgt über den Index i"
      ],
      "execution_count": null,
      "outputs": [
        {
          "output_type": "stream",
          "text": [
            "Sepp Herberger\n",
            "Helmut Schön\n",
            "Franz Beckenbauer\n",
            "Joachim Löw\n"
          ],
          "name": "stdout"
        }
      ]
    },
    {
      "cell_type": "code",
      "metadata": {
        "id": "uBDtJ8uPsAKC",
        "outputId": "46dcf1e1-8640-423d-b73f-6cf2d2e0b76b",
        "colab": {
          "base_uri": "https://localhost:8080/"
        }
      },
      "source": [
        "# Aufgabe 2\n",
        "a = [1, 5, 20, 9, 4, 3, 1]\n",
        "a[1] = a[2]\n",
        "a[5] = a[5] + a[6]\n",
        "a[6] = 4\n",
        "a.append(4)\n",
        "i = 3\n",
        "a[i] = i\n",
        "\n",
        "# Array ausgeben\n",
        "print(a)"
      ],
      "execution_count": 4,
      "outputs": [
        {
          "output_type": "stream",
          "text": [
            "[1, 20, 20, 3, 4, 4, 4, 4]\n"
          ],
          "name": "stdout"
        }
      ]
    }
  ]
}