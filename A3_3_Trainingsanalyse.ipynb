{
  "nbformat": 4,
  "nbformat_minor": 0,
  "metadata": {
    "kernelspec": {
      "display_name": "Python 3",
      "language": "python",
      "name": "python3"
    },
    "language_info": {
      "codemirror_mode": {
        "name": "ipython",
        "version": 3
      },
      "file_extension": ".py",
      "mimetype": "text/x-python",
      "name": "python",
      "nbconvert_exporter": "python",
      "pygments_lexer": "ipython3",
      "version": "3.7.6"
    },
    "colab": {
      "name": "A3.3-Trainingsanalyse.ipynb",
      "provenance": [],
      "include_colab_link": true
    }
  },
  "cells": [
    {
      "cell_type": "markdown",
      "metadata": {
        "id": "view-in-github",
        "colab_type": "text"
      },
      "source": [
        "<a href=\"https://colab.research.google.com/github/manne05/Konzepte/blob/master/A3_3_Trainingsanalyse.ipynb\" target=\"_parent\"><img src=\"https://colab.research.google.com/assets/colab-badge.svg\" alt=\"Open In Colab\"/></a>"
      ]
    },
    {
      "cell_type": "markdown",
      "metadata": {
        "id": "Kdvx52Ifm_O2"
      },
      "source": [
        "# Trainingsanalyse - Dartspiel\n",
        "Im Training für die Vereinsmeisterschaften wirft  jeder Dartspieler 6 Pfeile auf die Dartscheibe bevor der nächste  Dartspieler an der Reihe ist. Wir wollen ein Programm schreiben, das  aufgrund der 6 geworfenen Pfeile eine einfache Analyse durchführt.         \n",
        "In der Konsole soll folgendes ausgegeben werden: \n",
        "\n",
        "+ Höchste Punktzahl, \n",
        "+ niedrigste Punktzahl,\n",
        "+ durchschnittliche Punktzahl. \n",
        "\n",
        "Die Eingaben der Wurfergebnisse erfolgten ebenfalls über die Konsole (Bei einem Wurf sind maximal 60 Punkte erreichbar.)          \n",
        "Jeder Dartspieler wirft 6 Pfeile auf die Dartscheibe bevor der nächste Dartspieler an der Reihe ist. \n",
        "\n",
        "\n"
      ]
    },
    {
      "cell_type": "markdown",
      "metadata": {
        "id": "MX-6uzgLm_O2"
      },
      "source": [
        "Hinweis: Um die höchste, niedrigste und durchschnittliche Punktzahl zu ermitteln, empfehle ich mit Variablen zum Speichern der Ergebnisse zu arbeiten.\n",
        "\n",
        "Auf der Konsole sollte bei der Eingabe folgendes zu sehen sein:"
      ]
    },
    {
      "cell_type": "code",
      "metadata": {
        "id": "tsRlOCPWm_O2"
      },
      "source": [
        "# Deklaration des leeren Arrays\n",
        "wuerfe=[]\n",
        "\n",
        "# Einlesen der Würfe\n",
        "for i in range(6):\n",
        "  wurf = int(input(\"Wurf:\"))\n",
        "  wuerfe.append(wurf)"
      ],
      "execution_count": null,
      "outputs": []
    },
    {
      "cell_type": "markdown",
      "metadata": {
        "id": "sSY6UlLHm_O4"
      },
      "source": [
        "### Variablen zur Speicherung von Zwischenwerten\n",
        "Für die Speicherung der Werte für besten, schlechtesten und Durchschnittswert\n",
        "der sechs Trainingswürfe"
      ]
    },
    {
      "cell_type": "code",
      "metadata": {
        "id": "6EyhB-RIm_O4"
      },
      "source": [
        "# Deklaration und Initialisierung der Variablen\n",
        "print(wuerfe)       # Anzeige des bisherigen Inhaltes unseres Arrays wuerfe\n",
        "maxP = wuerfe[0]    # maxP wird mit dem Wert des ersten Arrayfeldes initialisiert\n",
        "minP = wuerfe[0]    # minP wird mit dem Wert des ersten Arrayfeldes initialisiert\n",
        "mittelP = 0         # mittelP wird mit 0 initialisiert"
      ],
      "execution_count": null,
      "outputs": []
    },
    {
      "cell_type": "markdown",
      "metadata": {
        "id": "MAUTwDQ4m_O4"
      },
      "source": [
        "### Auswertung der Trainingswürfe\n",
        "Das Array wird einmal durchlaufen.\n",
        "#### Ermittlung des besten Wurfes\n",
        "Wenn der Inhalt des aktuellen Feldes größer als der gespeicherte Wert in maxP ist,\n",
        "wird dieser Wert in maxP gespeichert.\n",
        "Nach Durchlaufen des Arrays steht in der Variablen maxP der Wert des besten Wurfes.\n",
        "\n",
        "#### Ermittlung des schlechtesten Wurfes\n",
        "Wenn der Inhalt des aktuellen Feldes kleiner als der gespeicherte Wert in minP ist,\n",
        "wird dieser Wert in minP gespeichert.\n",
        "Nach Durchlaufen des Arrays steht in der Variablen minP der Wert des schlechtesten Wurfes.\n",
        "\n",
        "#### Berechnung des Mittelwertes\n",
        "Der Inhalt des aktuellen Feldes wird auf den Inhalt der Variablen mittelP addiert.\n",
        "Der Mittelwert ergibt sich dann, wenn nach Durchlaufen des Arrays die aufsummierten Werte\n",
        "mittelP durch die Anzahl der Felder des Arrays wuerfe geteilt werden."
      ]
    },
    {
      "cell_type": "code",
      "metadata": {
        "id": "zLLmkId_m_O4"
      },
      "source": [
        "# Auswertung der Würfe\n",
        "for i in range(len(wuerfe)):    # Array wird einmal ganz durchlaufen\n",
        "    if wuerfe[i] > maxP:        \n",
        "        maxP = wuerfe[i]\n",
        "        print(maxP)\n",
        "    if wuerfe[i] < minP:\n",
        "        minP = wuerfe[i]\n",
        "        print(minP)\n",
        "    mittelP = mittelP + wuerfe[i]\n",
        "    print(mittelP)\n",
        "\n",
        "mittelP = mittelP / len(wuerfe)\n",
        "print(mittelP)"
      ],
      "execution_count": null,
      "outputs": []
    },
    {
      "cell_type": "code",
      "metadata": {
        "id": "kad0L3iAm_O4"
      },
      "source": [
        "# Ausgabe der Ergebnisse\n",
        "print(\"Bester Wurf:\", maxP)\n",
        "print(\"Schlechtester Wurf:\", minP)\n",
        "print(\"Durchschnittliche Punktzahl:\", mittelP)"
      ],
      "execution_count": null,
      "outputs": []
    },
    {
      "cell_type": "markdown",
      "metadata": {
        "id": "wJ5vWfvMm_O4"
      },
      "source": [
        "### Alternative Vorgehensweise\n",
        "Anstatt mit Variablen zu arbeiten, können auch auf eingebaute Methoden für Arrays in Python\n",
        "verwendet werden (dann muss man halt recherchieren, wie diese Methoden heißen und wie sie angewandt werden).\n",
        "#### Ermittlung Maximum und Minimum\n",
        "Für den größten und den kleinsten Wert in einem Array können die Methoden max(arrayname) \n",
        "und min(arrayname) aus der Standardbibliothek verwendet werden.\n",
        "#### Ermittlung des Mittelwertes\n",
        "Hierfür ist in der Standardbibliothek keine Methode eingebaut (ich habe wenigstens keine \n",
        "gefunden). Deshalb importieren wir das Modul numpy in unser Programm und verwenden daraus\n",
        "die Methode mean(arrayname), um den Mittelwert in unserem Array zu ermitteln."
      ]
    },
    {
      "cell_type": "code",
      "metadata": {
        "id": "xEVZBgNcm_O4"
      },
      "source": [
        "# Ermittlung des größten Wertes eines Arrays\n",
        "import numpy as np\n",
        "print(\"Bester Wurf: \", max(wuerfe))\n",
        "print(\"Schlechtester Wurf: \", min(wuerfe))\n",
        "print(\"Durchschnittliche Punktzahl: \", np.mean(wuerfe))"
      ],
      "execution_count": null,
      "outputs": []
    },
    {
      "cell_type": "code",
      "metadata": {
        "id": "BhSJAwOFm_O5"
      },
      "source": [
        ""
      ],
      "execution_count": null,
      "outputs": []
    }
  ]
}