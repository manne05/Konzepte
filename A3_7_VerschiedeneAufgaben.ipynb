{
  "nbformat": 4,
  "nbformat_minor": 0,
  "metadata": {
    "kernelspec": {
      "display_name": "Python 3",
      "language": "python",
      "name": "python3"
    },
    "language_info": {
      "codemirror_mode": {
        "name": "ipython",
        "version": 3
      },
      "file_extension": ".py",
      "mimetype": "text/x-python",
      "name": "python",
      "nbconvert_exporter": "python",
      "pygments_lexer": "ipython3",
      "version": "3.7.6"
    },
    "colab": {
      "name": "A3.7.VerschiedeneAufgaben.ipynb",
      "provenance": [],
      "include_colab_link": true
    }
  },
  "cells": [
    {
      "cell_type": "markdown",
      "metadata": {
        "id": "view-in-github",
        "colab_type": "text"
      },
      "source": [
        "<a href=\"https://colab.research.google.com/github/manne05/Konzepte/blob/master/A3_7_VerschiedeneAufgaben.ipynb\" target=\"_parent\"><img src=\"https://colab.research.google.com/assets/colab-badge.svg\" alt=\"Open In Colab\"/></a>"
      ]
    },
    {
      "cell_type": "markdown",
      "metadata": {
        "id": "vMz8yW2W6ru-"
      },
      "source": [
        "# Verschiedene Aufgaben\n",
        "\n",
        "## Aufgabe 1 \n",
        "\n",
        "Schreibe ein Programm, das alle Zahlen in einer Liste aufsummiert. \n",
        "Beispielliste: [199, 45, 332, 234, 106, 74, 12, 143] "
      ]
    },
    {
      "cell_type": "code",
      "metadata": {
        "id": "XRGXpmhZ6rvA",
        "outputId": "5e068b29-882c-46db-9164-4cc7fded083f"
      },
      "source": [
        "liste = [ 199, 45, 332, 234, 106, 74, 12, 143 ]\n",
        "# Manuelle Variante, hier wird über eine Hilfsvariable aufsummiert\n",
        "\n",
        "summe = 0        \n",
        "\n",
        "for i in liste:\n",
        "    summe += i\n",
        "    \n",
        "print(\"Manuell:    Die Summe ist \" + str(summe))\n",
        "\n",
        "# Alternative Lösung, hier wird die eingebaute Methode sum verwendet\n",
        "print(\"Alternativ: Die Summe ist \" + str(sum(liste)))\n"
      ],
      "execution_count": null,
      "outputs": [
        {
          "output_type": "stream",
          "text": [
            "Manuell:    Die Summe ist 1145\n",
            "Alternativ: Die Summe ist 1145\n"
          ],
          "name": "stdout"
        }
      ]
    },
    {
      "cell_type": "markdown",
      "metadata": {
        "id": "eOIBvZNe6rvC"
      },
      "source": [
        "## Aufgabe 2\n",
        "\n",
        "Aus unserer Beispielliste sollen mit einem kleinen Programm der kleinste und der größte Wert gesucht werden.\n",
        "Hier gibt es wieder eine manuelle Lösung mit Hilfsvariablen und eine Lösung mit eingebauten Pythonfunktionen."
      ]
    },
    {
      "cell_type": "code",
      "metadata": {
        "id": "KGopQQwP6rvC",
        "outputId": "249d01a1-50e9-4ab6-f720-32218d3aef49"
      },
      "source": [
        "liste = [ 199, 45, 332, 234, 106, 74, 12, 143 ]\n",
        "\n",
        "# Manuelle Variante mit den Hilfsvariablen minimum und maximum\n",
        "minimum = liste[0]       # Deklaration und Initialisierung mit Inhalt des ersten Arrayelements\n",
        "maximum = liste[0]       # dto.\n",
        "\n",
        "for i in liste:\n",
        "    if i < minimum:\n",
        "        minimum = i\n",
        "    if i > maximum:\n",
        "        maximum = i\n",
        "        \n",
        "print(\"Manuelle Lösung:\")\n",
        "print(\"Die kleinste Zahl ist \" + str(minimum))\n",
        "print(\"Die größte Zahl ist \" + str(maximum))\n",
        "\n",
        "# Alternative Lösung\n",
        "print(\"----------------------\")\n",
        "print(\"Alternative Lösung:\")\n",
        "print(\"Die kleinste Zahl ist \" + str(min(liste)))\n",
        "print(\"Die größte Zahl ist \" + str(max(liste)))\n",
        "\n"
      ],
      "execution_count": null,
      "outputs": [
        {
          "output_type": "stream",
          "text": [
            "Manuelle Lösung:\n",
            "Die kleinste Zahl ist 12\n",
            "Die größte Zahl ist 332\n",
            "----------------------\n",
            "Alternative Lösung:\n",
            "Die kleinste Zahl ist 12\n",
            "Die größte Zahl ist 332\n"
          ],
          "name": "stdout"
        }
      ]
    },
    {
      "cell_type": "markdown",
      "metadata": {
        "id": "u0VoSjvU6rvD"
      },
      "source": [
        "## Aufgabe 3\n",
        "Bei dieser Aufgabe sollen die Zahlenwerte in unserem Beispielarray aufsteigend sortiert und dann ausgegeben werden.\n",
        "\n",
        "Wieder gibt es zwei Lösungen:\n",
        "Eine manuelle Lösung über ein Hilfsarray und eine Lösung über eine vorhandene Pythonfunktion für Arrays.\n",
        "Bei der manuellen Lösung wird das Array so oft durchlaufen, wie Elemente vorhanden sind und jeweils der kleinste Wert gesucht. Dieser wird in das Hilfsarray hinzugefügt und aus der ursprünglichen Liste entfernt. "
      ]
    },
    {
      "cell_type": "code",
      "metadata": {
        "id": "3hJ2tnCJ6rvE",
        "outputId": "880975be-740e-4d4c-d887-8a204c9c65e9"
      },
      "source": [
        "import time\n",
        "liste = [ 199, 45, 332, 234, 106, 74, 12, 143 ]\n",
        "\n",
        "# Manuelle Variante mit einem zweiten Array in das die Werte aufsteigend einsortiert werden\n",
        "sortiert = []       # Deklaration und Initialisierung eines leeren Arrays\n",
        "start_time = time.time()\n",
        "for i in range(0, len(liste)):\n",
        "    minimum = min(liste)\n",
        "    sortiert.append(minimum)\n",
        "    liste.remove(minimum)\n",
        "\n",
        "finish_time = time.time()\n",
        "print(\"Laufzeitdauer: {} msec\".format((finish_time-start_time)*1000))\n",
        "print(sortiert)\n",
        "\n",
        "# Da die Liste geleert wurde, füllen wir sie erneut\n",
        "liste = [ 199, 45, 332, 234, 106, 74, 12, 143 ]\n",
        "\n",
        "# Alternative Lösung mit der eingebauten Methode sort()\n",
        "start_time = time.time()\n",
        "liste.sort()\n",
        "finish_time = time.time()\n",
        "print(\"Laufzeitdauer: {} msec\".format((finish_time-start_time)*1000))\n",
        "print(liste)\n",
        "\n"
      ],
      "execution_count": null,
      "outputs": [
        {
          "output_type": "stream",
          "text": [
            "Laufzeitdauer: 0.11110305786132812 msec\n",
            "[12, 45, 74, 106, 143, 199, 234, 332]\n",
            "Laufzeitdauer: 0.0591278076171875 msec\n",
            "[12, 45, 74, 106, 143, 199, 234, 332]\n"
          ],
          "name": "stdout"
        }
      ]
    },
    {
      "cell_type": "markdown",
      "metadata": {
        "id": "Xh_mzBvR6rvF"
      },
      "source": [
        "## Aufgabe 4\n",
        "\n",
        "Bei dieser erweiterten Beispielliste sollen alle doppelten Zahlenwerte eliminiert werden. Dazu soll noch angezeigt werden, welche Zahlen doppelt in der Originalliste vorkommen.\n",
        "\n",
        "Für die Lösung der Aufgabe verwenden wir zwei leere Arrays. \n",
        "Die Originalliste wird einmal in einer for - Schleife durchlaufen:\n",
        "   Jeder Zahlenwert wird in das erste Array (ohneDubletten)eingefügt, \n",
        "   wenn\n",
        "      er dort noch nicht vorhanden ist (wird mit not in festgestellt), \n",
        "   sonst \n",
        "      landet diese bereits vorhandene Zahl im zweiten Array (dubletten)."
      ]
    },
    {
      "cell_type": "code",
      "metadata": {
        "id": "53AhsPsN6rvF",
        "outputId": "149b32d9-c58f-4f83-ed71-3fa3c8a925fe"
      },
      "source": [
        "liste = [ 199, 45, 12, 332, 234, 106, 74, 12, 143, 199, 45, 106]\n",
        "\n",
        "ohneDubletten = []\n",
        "dubletten = []\n",
        "\n",
        "for i in liste:\n",
        "    if i not in ohneDubletten:\n",
        "        ohneDubletten.append(i)\n",
        "    else:\n",
        "        dubletten.append(i)\n",
        "\n",
        "print(\"Originalliste:  \", liste)\n",
        "print(\"Ohne Dubletten: \", ohneDubletten)\n",
        "print(\"Dubletten:      \", dubletten)"
      ],
      "execution_count": null,
      "outputs": [
        {
          "output_type": "stream",
          "text": [
            "Originalliste:   [199, 45, 12, 332, 234, 106, 74, 12, 143, 199, 45, 106]\n",
            "Ohne Dubletten:  [199, 45, 12, 332, 234, 106, 74, 143]\n",
            "Dubletten:       [12, 199, 45, 106]\n"
          ],
          "name": "stdout"
        }
      ]
    },
    {
      "cell_type": "markdown",
      "metadata": {
        "id": "gyDS_Law6rvG"
      },
      "source": [
        "## Aufgabe 5\n",
        "\n",
        "Bei dieser Aufgabe sollen aus den beiden Listen liste1 und liste2 die Zahlenwerte herausgefunden werden, die in beiden Listen vorkommen.\n",
        "Es kann hier ebenfalls mit einem neuen, leeren Array gearbeitet werden, in das die Zahlenwerte angefügt werden, die in beiden Listen vorkommen."
      ]
    },
    {
      "cell_type": "code",
      "metadata": {
        "id": "NLiJe4zP6rvH",
        "outputId": "d6e91098-691a-46a3-d4b5-f0671e5c55ce"
      },
      "source": [
        "liste1 = [ 199, 45, 12, 332, 234, 106, 74, 12, 143, 199 ]\n",
        "liste2 = [ 254, 41, 32, 623, 45, 199, 73, 126, 332, 101 ]\n",
        "\n",
        "ueberschneidung = []\n",
        "\n",
        "for i in liste1:\n",
        "    if i in liste2:\n",
        "        ueberschneidung.append(i)\n",
        "        \n",
        "        \n",
        "print(\"Überschneidung liste1 und liste2\")\n",
        "print(ueberschneidung)\n",
        "\n"
      ],
      "execution_count": null,
      "outputs": [
        {
          "output_type": "stream",
          "text": [
            "Überschneidung liste1 und liste2\n",
            "[199, 45, 332, 199]\n"
          ],
          "name": "stdout"
        }
      ]
    },
    {
      "cell_type": "markdown",
      "metadata": {
        "id": "B6DRwc5O6rvH"
      },
      "source": [
        "## Aufgabe 6\n",
        "### 6a\n",
        "Hier sollen die Zahlenwerte der Liste 1 herausgefunden werden, die nicht in der Liste 2 sind.\n",
        "\n",
        "### 6b\n",
        "Nun sollen die Zahlenwerte in Liste 2 herausgefunden werden, die nicht in Liste 1 sind.\n"
      ]
    },
    {
      "cell_type": "code",
      "metadata": {
        "id": "D12_3NFV6rvI",
        "outputId": "2da3d300-91a8-436d-9736-89604f72201a"
      },
      "source": [
        "liste1 = [ 199, 45, 12, 332, 234, 106, 74, 12, 143, 199 ]\n",
        "liste2 = [ 254, 41, 32, 623, 45, 199, 73, 126, 332, 101 ]\n",
        "\n",
        "ergebnis = []\n",
        "\n",
        "for i in liste1:\n",
        "    if i not in liste2:\n",
        "        ergebnis.append(i)\n",
        "\n",
        "print(\"6a: Elemente in Liste 1 die nicht in Liste 2 sind:\")\n",
        "print(ergebnis)\n",
        "\n",
        "ergebnis = []\n",
        "\n",
        "for i in liste2:\n",
        "    if i not in liste1:\n",
        "        ergebnis.append(i)\n",
        "\n",
        "print(\"6b: Elemente in Liste 2 die nicht in Liste 1 sind:\")\n",
        "print(ergebnis)\n"
      ],
      "execution_count": null,
      "outputs": [
        {
          "output_type": "stream",
          "text": [
            "6a: Elemente in Liste 1 die nicht in Liste 2 sind:\n",
            "[12, 234, 106, 74, 12, 143]\n",
            "6b: Elemente in Liste 2 die nicht in Liste 1 sind:\n",
            "[254, 41, 32, 623, 73, 126, 101]\n"
          ],
          "name": "stdout"
        }
      ]
    },
    {
      "cell_type": "code",
      "metadata": {
        "id": "NiVI6gvl6rvJ"
      },
      "source": [
        ""
      ],
      "execution_count": null,
      "outputs": []
    }
  ]
}